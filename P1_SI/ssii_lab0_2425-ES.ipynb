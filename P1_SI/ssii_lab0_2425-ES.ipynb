{
 "cells": [
  {
   "cell_type": "markdown",
   "metadata": {
    "id": "RM0YZEL8XQow"
   },
   "source": [
    "# Lab 0: Introducción a `Python` y `Jupyter`\n",
    "\n",
    "## Sistemas Inteligentes - Curso 2024-2025\n",
    "\n",
    "\n",
    "### Profesores:\n",
    "- Juan Carlos Alfaro Jiménez\n",
    "- M. Julia Flores Gallego\n",
    "- Ismael García Varea\n",
    "- Adrián Rodríguez López (Temporal)"
   ]
  },
  {
   "cell_type": "markdown",
   "metadata": {},
   "source": [
    "---\n",
    "\n",
    "## Información previa\n",
    "\n",
    "En este laboratorio, aprenderemos algunas de las características básicas del lenguaje de programación \"Python\"."
   ]
  },
  {
   "cell_type": "markdown",
   "metadata": {
    "id": "ZR05bPaQXQo4"
   },
   "source": [
    "---\n",
    "\n",
    "## 1. Introducción a `Python`"
   ]
  },
  {
   "cell_type": "markdown",
   "metadata": {
    "id": "caoNuLp5XQo-"
   },
   "source": [
    "A diferencia de lenguajes como `C` o `Java`, `Python` es un lenguaje de programación interpretado. Esto significa que no necesitamos compilar el código, podemos escribir fragmentos y el entorno informático interactivo estará esperando para evaluar la expresión:"
   ]
  },
  {
   "cell_type": "code",
   "execution_count": null,
   "metadata": {
    "colab": {
     "base_uri": "https://localhost:8080/",
     "height": 34
    },
    "executionInfo": {
     "elapsed": 677,
     "status": "ok",
     "timestamp": 1601026851090,
     "user": {
      "displayName": "Fernando Rubio",
      "photoUrl": "",
      "userId": "13613469116164460032"
     },
     "user_tz": -120
    },
    "id": "muspMhqmXQo_",
    "outputId": "d7954114-a7d3-446f-b539-7b74ab7453da"
   },
   "outputs": [],
   "source": [
    "2 + 1"
   ]
  },
  {
   "cell_type": "markdown",
   "metadata": {
    "id": "1OoQTu4nXQpQ"
   },
   "source": [
    "`Python` es un lenguaje de programación tipado dinámicamente, es decir, el tipo de una variable se comprueba en tiempo de ejecución (no es necesario poner int, String, etc.):"
   ]
  },
  {
   "cell_type": "code",
   "execution_count": 2,
   "metadata": {
    "id": "BgUFThoCXQpS"
   },
   "outputs": [],
   "source": [
    "a = 10"
   ]
  },
  {
   "cell_type": "code",
   "execution_count": null,
   "metadata": {
    "colab": {
     "base_uri": "https://localhost:8080/",
     "height": 36
    },
    "executionInfo": {
     "elapsed": 596,
     "status": "ok",
     "timestamp": 1601026918682,
     "user": {
      "displayName": "Fernando Rubio",
      "photoUrl": "",
      "userId": "13613469116164460032"
     },
     "user_tz": -120
    },
    "id": "6vJiQaCW7YQp",
    "outputId": "af2a2387-2e73-4d25-e81a-8518b2c5ac96"
   },
   "outputs": [],
   "source": [
    "a"
   ]
  },
  {
   "cell_type": "code",
   "execution_count": 4,
   "metadata": {
    "id": "nt8vZwGy7Zhq"
   },
   "outputs": [],
   "source": [
    "a = \"hola\""
   ]
  },
  {
   "cell_type": "code",
   "execution_count": null,
   "metadata": {},
   "outputs": [],
   "source": [
    "a"
   ]
  },
  {
   "cell_type": "markdown",
   "metadata": {
    "id": "mTjv6SaVXQpX"
   },
   "source": [
    "Y fuertemente tipado, es decir, las variables están ligadas a tipos de datos específicos y darán como resultado errores si no coinciden como se espera en la expresión:"
   ]
  },
  {
   "cell_type": "code",
   "execution_count": 6,
   "metadata": {
    "colab": {
     "base_uri": "https://localhost:8080/",
     "height": 36
    },
    "executionInfo": {
     "elapsed": 588,
     "status": "ok",
     "timestamp": 1601026969653,
     "user": {
      "displayName": "Fernando Rubio",
      "photoUrl": "",
      "userId": "13613469116164460032"
     },
     "user_tz": -120
    },
    "id": "Qorg8vtAXQpZ",
    "outputId": "96cb51d1-3414-40f3-8050-241d22f696ae"
   },
   "outputs": [],
   "source": [
    "b = \"10\""
   ]
  },
  {
   "cell_type": "code",
   "execution_count": null,
   "metadata": {
    "scrolled": true
   },
   "outputs": [],
   "source": [
    "b + a"
   ]
  },
  {
   "cell_type": "code",
   "execution_count": 8,
   "metadata": {},
   "outputs": [],
   "source": [
    "c = 10"
   ]
  },
  {
   "cell_type": "code",
   "execution_count": 10,
   "metadata": {},
   "outputs": [],
   "source": [
    "# Si no comentamos la siguiente sección resultará en un error\n",
    "# a + c"
   ]
  },
  {
   "cell_type": "markdown",
   "metadata": {
    "id": "3l-FAfJKXQph"
   },
   "source": [
    "`Python` nos ofrece algunos trucos:\n",
    "\n",
    "Repetición de 10 veces \"Na\" y concatenado con la palabra \"Leader!\""
   ]
  },
  {
   "cell_type": "code",
   "execution_count": null,
   "metadata": {
    "colab": {
     "base_uri": "https://localhost:8080/",
     "height": 36
    },
    "executionInfo": {
     "elapsed": 547,
     "status": "ok",
     "timestamp": 1601027010831,
     "user": {
      "displayName": "Fernando Rubio",
      "photoUrl": "",
      "userId": "13613469116164460032"
     },
     "user_tz": -120
    },
    "id": "V3RtTDL7XQpi",
    "outputId": "afd4ae6b-ffa4-4adf-ec77-9d94d83ef456"
   },
   "outputs": [],
   "source": [
    "(\"Na\" * 10) + \" Leader!\""
   ]
  },
  {
   "cell_type": "markdown",
   "metadata": {
    "id": "tAE-rV50XQpq"
   },
   "source": [
    "### 1.1. Tipos de datos básicos"
   ]
  },
  {
   "cell_type": "markdown",
   "metadata": {
    "id": "PRZ3-0R8XQpt"
   },
   "source": [
    "Los tipos de datos básicos en `Python` son los siguientes:\n",
    "\n",
    "* `bool`\n",
    "* `int`\n",
    "* `float`\n",
    "* `str `\n",
    "\n",
    "Veamos algunos ejemplos y casos de uso.:"
   ]
  },
  {
   "cell_type": "markdown",
   "metadata": {
    "id": "x8WEKaamXQpv"
   },
   "source": [
    "####  `bool`"
   ]
  },
  {
   "cell_type": "markdown",
   "metadata": {
    "id": "-sF0BullXQpw"
   },
   "source": [
    "Las constantes principales son:"
   ]
  },
  {
   "cell_type": "code",
   "execution_count": null,
   "metadata": {
    "colab": {
     "base_uri": "https://localhost:8080/",
     "height": 34
    },
    "executionInfo": {
     "elapsed": 684,
     "status": "ok",
     "timestamp": 1601027052082,
     "user": {
      "displayName": "Fernando Rubio",
      "photoUrl": "",
      "userId": "13613469116164460032"
     },
     "user_tz": -120
    },
    "id": "8S5i283LXQp4",
    "outputId": "43c3ac76-bfca-40fc-ac5b-b3f8df1a1671"
   },
   "outputs": [],
   "source": [
    "True"
   ]
  },
  {
   "cell_type": "code",
   "execution_count": null,
   "metadata": {
    "colab": {
     "base_uri": "https://localhost:8080/",
     "height": 34
    },
    "executionInfo": {
     "elapsed": 546,
     "status": "ok",
     "timestamp": 1601027053153,
     "user": {
      "displayName": "Fernando Rubio",
      "photoUrl": "",
      "userId": "13613469116164460032"
     },
     "user_tz": -120
    },
    "id": "NG1tmOkUXQp-",
    "outputId": "217a4724-4df4-4b54-a98e-f92f94974c08"
   },
   "outputs": [],
   "source": [
    "False"
   ]
  },
  {
   "cell_type": "markdown",
   "metadata": {
    "id": "2i_VBgfSXQqE"
   },
   "source": [
    "Sin embargo, todos los objetos de `Python` tienen valores de verdad, no solo el tipo `Bool`. Empecemos con los valores de tipo int:"
   ]
  },
  {
   "cell_type": "code",
   "execution_count": null,
   "metadata": {
    "scrolled": true
   },
   "outputs": [],
   "source": [
    "True if 5 else False"
   ]
  },
  {
   "cell_type": "code",
   "execution_count": 15,
   "metadata": {},
   "outputs": [],
   "source": [
    "a = True if -5 else False"
   ]
  },
  {
   "cell_type": "code",
   "execution_count": null,
   "metadata": {},
   "outputs": [],
   "source": [
    "a"
   ]
  },
  {
   "cell_type": "code",
   "execution_count": null,
   "metadata": {
    "scrolled": true
   },
   "outputs": [],
   "source": [
    "True if 0 else False"
   ]
  },
  {
   "cell_type": "code",
   "execution_count": null,
   "metadata": {},
   "outputs": [],
   "source": [
    "if 5:\n",
    "    print(True)\n",
    "else:\n",
    "    print(False)"
   ]
  },
  {
   "cell_type": "markdown",
   "metadata": {},
   "source": [
    "Igual con `float`:"
   ]
  },
  {
   "cell_type": "code",
   "execution_count": null,
   "metadata": {},
   "outputs": [],
   "source": [
    "True if 5.0 else False"
   ]
  },
  {
   "cell_type": "code",
   "execution_count": null,
   "metadata": {},
   "outputs": [],
   "source": [
    "True if -5.0 else False"
   ]
  },
  {
   "cell_type": "code",
   "execution_count": null,
   "metadata": {
    "scrolled": true
   },
   "outputs": [],
   "source": [
    "True if 0.0 else False"
   ]
  },
  {
   "cell_type": "code",
   "execution_count": null,
   "metadata": {},
   "outputs": [],
   "source": [
    "True if 0.1 else False"
   ]
  },
  {
   "cell_type": "markdown",
   "metadata": {},
   "source": [
    "Para `str`:"
   ]
  },
  {
   "cell_type": "code",
   "execution_count": null,
   "metadata": {
    "colab": {
     "base_uri": "https://localhost:8080/",
     "height": 36
    },
    "executionInfo": {
     "elapsed": 555,
     "status": "ok",
     "timestamp": 1601027116007,
     "user": {
      "displayName": "Fernando Rubio",
      "photoUrl": "",
      "userId": "13613469116164460032"
     },
     "user_tz": -120
    },
    "id": "9-4zry7sXQqM",
    "outputId": "e1e34922-cae0-4af3-f597-e11322365e0c"
   },
   "outputs": [],
   "source": [
    "True if \"Hello\" else False"
   ]
  },
  {
   "cell_type": "code",
   "execution_count": null,
   "metadata": {
    "colab": {
     "base_uri": "https://localhost:8080/",
     "height": 36
    },
    "executionInfo": {
     "elapsed": 1000,
     "status": "ok",
     "timestamp": 1601027123986,
     "user": {
      "displayName": "Fernando Rubio",
      "photoUrl": "",
      "userId": "13613469116164460032"
     },
     "user_tz": -120
    },
    "id": "n6A1MNNRXQqR",
    "outputId": "f376084f-e8a1-475c-e45d-8260f11cc3d4"
   },
   "outputs": [],
   "source": [
    "True if \"\" else False"
   ]
  },
  {
   "cell_type": "markdown",
   "metadata": {
    "id": "0VM7BFHZXQq2"
   },
   "source": [
    "Los operadores del tipo `bool` son:\n",
    "\n",
    "* `and`\n",
    "* `or`\n",
    "* `not`\n",
    "\n",
    "Podemos ver algunos ejemplos:"
   ]
  },
  {
   "cell_type": "code",
   "execution_count": null,
   "metadata": {
    "colab": {
     "base_uri": "https://localhost:8080/",
     "height": 36
    },
    "executionInfo": {
     "elapsed": 698,
     "status": "ok",
     "timestamp": 1601027202661,
     "user": {
      "displayName": "Fernando Rubio",
      "photoUrl": "",
      "userId": "13613469116164460032"
     },
     "user_tz": -120
    },
    "id": "aU-BgWKAXQq3",
    "outputId": "cb6573b1-df11-4ee8-97ef-823037d9f356"
   },
   "outputs": [],
   "source": [
    "True if (True and False) else False"
   ]
  },
  {
   "cell_type": "code",
   "execution_count": null,
   "metadata": {
    "colab": {
     "base_uri": "https://localhost:8080/",
     "height": 36
    },
    "executionInfo": {
     "elapsed": 556,
     "status": "ok",
     "timestamp": 1601027223980,
     "user": {
      "displayName": "Fernando Rubio",
      "photoUrl": "",
      "userId": "13613469116164460032"
     },
     "user_tz": -120
    },
    "id": "_3UN0L0_XQq7",
    "outputId": "a3d03ddf-7858-468d-b483-d9340d302513"
   },
   "outputs": [],
   "source": [
    "True if (True or False) else False"
   ]
  },
  {
   "cell_type": "code",
   "execution_count": null,
   "metadata": {
    "colab": {
     "base_uri": "https://localhost:8080/",
     "height": 36
    },
    "executionInfo": {
     "elapsed": 511,
     "status": "ok",
     "timestamp": 1601027208329,
     "user": {
      "displayName": "Fernando Rubio",
      "photoUrl": "",
      "userId": "13613469116164460032"
     },
     "user_tz": -120
    },
    "id": "0k82f_kcXQq-",
    "outputId": "717eaf76-e664-4612-b8a1-20e9b166c109"
   },
   "outputs": [],
   "source": [
    "True if (not False) else False"
   ]
  },
  {
   "cell_type": "code",
   "execution_count": null,
   "metadata": {},
   "outputs": [],
   "source": [
    "True if (not True) else False"
   ]
  },
  {
   "cell_type": "markdown",
   "metadata": {
    "id": "31JAQ3eZXQrC"
   },
   "source": [
    "Son operadores similares a `&&`, `||` y `!` de los lenguajes `C` y `Java`."
   ]
  },
  {
   "cell_type": "markdown",
   "metadata": {
    "id": "zqIGLzq4XQrD"
   },
   "source": [
    "#### `int` y `float`"
   ]
  },
  {
   "cell_type": "markdown",
   "metadata": {
    "id": "uAgEhzsmXQrG"
   },
   "source": [
    "Podemos realizar las operaciones básicas entre `int` y `float` en `Python`:"
   ]
  },
  {
   "cell_type": "code",
   "execution_count": null,
   "metadata": {
    "colab": {
     "base_uri": "https://localhost:8080/",
     "height": 34
    },
    "executionInfo": {
     "elapsed": 558,
     "status": "ok",
     "timestamp": 1601027237254,
     "user": {
      "displayName": "Fernando Rubio",
      "photoUrl": "",
      "userId": "13613469116164460032"
     },
     "user_tz": -120
    },
    "id": "THVwNxhIXQrI",
    "outputId": "9c38f9c1-727c-4547-a872-56a06a1ed017"
   },
   "outputs": [],
   "source": [
    "1 + 2"
   ]
  },
  {
   "cell_type": "code",
   "execution_count": null,
   "metadata": {
    "colab": {
     "base_uri": "https://localhost:8080/",
     "height": 34
    },
    "executionInfo": {
     "elapsed": 575,
     "status": "ok",
     "timestamp": 1601027238425,
     "user": {
      "displayName": "Fernando Rubio",
      "photoUrl": "",
      "userId": "13613469116164460032"
     },
     "user_tz": -120
    },
    "id": "M8nr20BnXQrM",
    "outputId": "c767524d-1feb-4661-b005-4d1d8a05a9b0"
   },
   "outputs": [],
   "source": [
    "2 * 3"
   ]
  },
  {
   "cell_type": "code",
   "execution_count": null,
   "metadata": {
    "colab": {
     "base_uri": "https://localhost:8080/",
     "height": 34
    },
    "executionInfo": {
     "elapsed": 531,
     "status": "ok",
     "timestamp": 1601027247165,
     "user": {
      "displayName": "Fernando Rubio",
      "photoUrl": "",
      "userId": "13613469116164460032"
     },
     "user_tz": -120
    },
    "id": "PpobL9WOXQrO",
    "outputId": "1b1ccef8-d59c-4197-ba85-c34f5455639e"
   },
   "outputs": [],
   "source": [
    "10 / 2"
   ]
  },
  {
   "cell_type": "code",
   "execution_count": null,
   "metadata": {},
   "outputs": [],
   "source": [
    "11 / 2"
   ]
  },
  {
   "cell_type": "code",
   "execution_count": null,
   "metadata": {
    "colab": {
     "base_uri": "https://localhost:8080/",
     "height": 34
    },
    "executionInfo": {
     "elapsed": 718,
     "status": "ok",
     "timestamp": 1601027268513,
     "user": {
      "displayName": "Fernando Rubio",
      "photoUrl": "",
      "userId": "13613469116164460032"
     },
     "user_tz": -120
    },
    "id": "hwwpFWPkXQrS",
    "outputId": "3f76dd83-b986-4415-ec91-a3123e04dd1d"
   },
   "outputs": [],
   "source": [
    "# División entera\n",
    "10 // 2"
   ]
  },
  {
   "cell_type": "code",
   "execution_count": null,
   "metadata": {},
   "outputs": [],
   "source": [
    "# División entera\n",
    "11 // 2"
   ]
  },
  {
   "cell_type": "code",
   "execution_count": null,
   "metadata": {
    "colab": {
     "base_uri": "https://localhost:8080/",
     "height": 34
    },
    "executionInfo": {
     "elapsed": 737,
     "status": "ok",
     "timestamp": 1601027277738,
     "user": {
      "displayName": "Fernando Rubio",
      "photoUrl": "",
      "userId": "13613469116164460032"
     },
     "user_tz": -120
    },
    "id": "i71g3LvvXQrW",
    "outputId": "03c6eee4-1154-40bf-ca85-f47cc00a3800"
   },
   "outputs": [],
   "source": [
    "# Módulo\n",
    "11 % 3"
   ]
  },
  {
   "cell_type": "code",
   "execution_count": null,
   "metadata": {
    "colab": {
     "base_uri": "https://localhost:8080/",
     "height": 34
    },
    "executionInfo": {
     "elapsed": 572,
     "status": "ok",
     "timestamp": 1601027300890,
     "user": {
      "displayName": "Fernando Rubio",
      "photoUrl": "",
      "userId": "13613469116164460032"
     },
     "user_tz": -120
    },
    "id": "3LOliMWIXQrj",
    "outputId": "46307490-5e29-47df-ef0e-d688f9708cd6",
    "scrolled": true
   },
   "outputs": [],
   "source": [
    "# Potencia\n",
    "2 ** 3"
   ]
  },
  {
   "cell_type": "markdown",
   "metadata": {
    "id": "SYghj9UXXQro"
   },
   "source": [
    "A diferencia de `C` o `Java`, el tipo `int` no tiene límites en `Python`:"
   ]
  },
  {
   "cell_type": "code",
   "execution_count": null,
   "metadata": {
    "colab": {
     "base_uri": "https://localhost:8080/",
     "height": 54
    },
    "executionInfo": {
     "elapsed": 552,
     "status": "ok",
     "timestamp": 1601027321069,
     "user": {
      "displayName": "Fernando Rubio",
      "photoUrl": "",
      "userId": "13613469116164460032"
     },
     "user_tz": -120
    },
    "id": "yzZ_csMlXQrq",
    "outputId": "6db6c487-417a-4de4-82d6-d160d563180c"
   },
   "outputs": [],
   "source": [
    "10000000000000000000000000 ** 100"
   ]
  },
  {
   "cell_type": "markdown",
   "metadata": {
    "id": "J7biAW_tXQru"
   },
   "source": [
    "####  `str`"
   ]
  },
  {
   "cell_type": "markdown",
   "metadata": {
    "id": "c1gmTaRGXQrw"
   },
   "source": [
    "No existe un tipo de datos para un carácter en `Python` porque una cadena ya es una secuencia ordenada de caracteres:"
   ]
  },
  {
   "cell_type": "code",
   "execution_count": 35,
   "metadata": {
    "id": "-Bjhpp9bXQrx"
   },
   "outputs": [],
   "source": [
    "a = \"Hello\""
   ]
  },
  {
   "cell_type": "code",
   "execution_count": null,
   "metadata": {
    "colab": {
     "base_uri": "https://localhost:8080/",
     "height": 34
    },
    "executionInfo": {
     "elapsed": 580,
     "status": "ok",
     "timestamp": 1601027393148,
     "user": {
      "displayName": "Fernando Rubio",
      "photoUrl": "",
      "userId": "13613469116164460032"
     },
     "user_tz": -120
    },
    "id": "eSuQiRlqXQr3",
    "outputId": "151b343a-e37f-43b2-ab4e-77832a57908b"
   },
   "outputs": [],
   "source": [
    "a"
   ]
  },
  {
   "cell_type": "markdown",
   "metadata": {},
   "source": [
    "Se podrán indexar de esta manera:"
   ]
  },
  {
   "cell_type": "code",
   "execution_count": null,
   "metadata": {},
   "outputs": [],
   "source": [
    "a[-0]"
   ]
  },
  {
   "cell_type": "code",
   "execution_count": null,
   "metadata": {},
   "outputs": [],
   "source": [
    "a[-2]"
   ]
  },
  {
   "cell_type": "code",
   "execution_count": null,
   "metadata": {
    "colab": {
     "base_uri": "https://localhost:8080/",
     "height": 36
    },
    "executionInfo": {
     "elapsed": 568,
     "status": "ok",
     "timestamp": 1601027380388,
     "user": {
      "displayName": "Fernando Rubio",
      "photoUrl": "",
      "userId": "13613469116164460032"
     },
     "user_tz": -120
    },
    "id": "rq8yLbG_XQrz",
    "outputId": "7d075de0-1455-4460-eec5-fef6cd57ed3c"
   },
   "outputs": [],
   "source": [
    "a[-4]"
   ]
  },
  {
   "cell_type": "markdown",
   "metadata": {
    "id": "0Z2h9uSBXQr5"
   },
   "source": [
    "Podemos realizar algunas operaciones sofisticadas en `Python` para `str`:"
   ]
  },
  {
   "cell_type": "code",
   "execution_count": null,
   "metadata": {
    "colab": {
     "base_uri": "https://localhost:8080/",
     "height": 36
    },
    "executionInfo": {
     "elapsed": 583,
     "status": "ok",
     "timestamp": 1601027406448,
     "user": {
      "displayName": "Fernando Rubio",
      "photoUrl": "",
      "userId": "13613469116164460032"
     },
     "user_tz": -120
    },
    "id": "qNY4Ry6bXQr6",
    "outputId": "de17ac3d-40f9-48b9-d67a-c5c6e43dde6f"
   },
   "outputs": [],
   "source": [
    "\"Hello\" * 2"
   ]
  },
  {
   "cell_type": "code",
   "execution_count": null,
   "metadata": {
    "colab": {
     "base_uri": "https://localhost:8080/",
     "height": 36
    },
    "executionInfo": {
     "elapsed": 605,
     "status": "ok",
     "timestamp": 1601027418846,
     "user": {
      "displayName": "Fernando Rubio",
      "photoUrl": "",
      "userId": "13613469116164460032"
     },
     "user_tz": -120
    },
    "id": "DTo0lVzjXQr8",
    "outputId": "a113741a-843b-4319-f9d4-304b46c1e4fa"
   },
   "outputs": [],
   "source": [
    "\"Hello\" + \", World!\""
   ]
  },
  {
   "cell_type": "markdown",
   "metadata": {},
   "source": [
    "Sin embargo, `Python` es fuertemente tipado:"
   ]
  },
  {
   "cell_type": "code",
   "execution_count": 79,
   "metadata": {
    "colab": {
     "base_uri": "https://localhost:8080/",
     "height": 202
    },
    "executionInfo": {
     "elapsed": 531,
     "status": "error",
     "timestamp": 1601027421712,
     "user": {
      "displayName": "Fernando Rubio",
      "photoUrl": "",
      "userId": "13613469116164460032"
     },
     "user_tz": -120
    },
    "id": "KMKL13ItXQr_",
    "outputId": "628b3323-edff-478d-9210-b92aed8ecb57"
   },
   "outputs": [],
   "source": [
    "# Si no comentamos la siguiente sección resultará en un error\n",
    "# \"response = \" + 2"
   ]
  },
  {
   "cell_type": "markdown",
   "metadata": {
    "id": "_veeOxtmXQsB"
   },
   "source": [
    "Podemos hacer casting a `str`:"
   ]
  },
  {
   "cell_type": "code",
   "execution_count": null,
   "metadata": {
    "colab": {
     "base_uri": "https://localhost:8080/",
     "height": 36
    },
    "executionInfo": {
     "elapsed": 538,
     "status": "ok",
     "timestamp": 1601027452269,
     "user": {
      "displayName": "Fernando Rubio",
      "photoUrl": "",
      "userId": "13613469116164460032"
     },
     "user_tz": -120
    },
    "id": "jjVHitNzXQsC",
    "outputId": "da97ec8d-4b25-42bf-fbfb-23f7d8a4c9c6"
   },
   "outputs": [],
   "source": [
    "\"response = \" + str(2)"
   ]
  },
  {
   "cell_type": "markdown",
   "metadata": {},
   "source": [
    "El uso de comillas simples y dobles es indiferente, pero podemos meter comillas dentro de otras:"
   ]
  },
  {
   "cell_type": "code",
   "execution_count": null,
   "metadata": {},
   "outputs": [],
   "source": [
    "cadena = \"Cadena con 'comillas simples' dentro\"\n",
    "cadena"
   ]
  },
  {
   "cell_type": "code",
   "execution_count": null,
   "metadata": {},
   "outputs": [],
   "source": [
    "cadena = 'Cadena con \"comillas dobles\" dentro'\n",
    "cadena"
   ]
  },
  {
   "cell_type": "code",
   "execution_count": null,
   "metadata": {},
   "outputs": [],
   "source": [
    "cadena = 'Cadena con comillas simples \\'dentro\\' '\n",
    "cadena"
   ]
  },
  {
   "cell_type": "markdown",
   "metadata": {},
   "source": [
    "Se pueden usar `templates`, que son una forma de representar diferentes tipos de datos como si fuesen una cadena:"
   ]
  },
  {
   "cell_type": "code",
   "execution_count": null,
   "metadata": {},
   "outputs": [],
   "source": [
    "number = 2\n",
    "number_with_decimals = 22.5\n",
    "string = 'Hello'\n",
    "some_list = [1,2,3,4]\n",
    "\n",
    "template_string = f\"{number-number_with_decimals} - {number_with_decimals} - {string} - {some_list}\"\n",
    "template_string"
   ]
  },
  {
   "cell_type": "markdown",
   "metadata": {
    "id": "MJIersPGXQsS"
   },
   "source": [
    "### 1.2. Sentencias de control \n",
    "\n",
    "Las sentencias básicas de control en `Python` son:\n",
    "\n",
    "* `if`\n",
    "* `for`\n",
    "* `while`\n",
    "\n",
    "Veamos algunos ejemplos:"
   ]
  },
  {
   "cell_type": "code",
   "execution_count": 45,
   "metadata": {},
   "outputs": [],
   "source": [
    "n = 2"
   ]
  },
  {
   "cell_type": "code",
   "execution_count": null,
   "metadata": {
    "colab": {
     "base_uri": "https://localhost:8080/",
     "height": 52
    },
    "executionInfo": {
     "elapsed": 513,
     "status": "ok",
     "timestamp": 1601027859599,
     "user": {
      "displayName": "Fernando Rubio",
      "photoUrl": "",
      "userId": "13613469116164460032"
     },
     "user_tz": -120
    },
    "id": "rM9yAQu-XQsX",
    "outputId": "13852806-915e-4592-f07f-d67974521c4b"
   },
   "outputs": [],
   "source": [
    "if n < 10:\n",
    "    print(\"Foo\", end=\"\")\n",
    "    print(\"Baz\")\n",
    "else:\n",
    "    print(\"Bar\")"
   ]
  },
  {
   "cell_type": "markdown",
   "metadata": {
    "id": "rHKMsBXoXQsb"
   },
   "source": [
    "`Python` utiliza tabulaciones (normalmente, 4 espacios) para bloques en lugar de llaves, a diferencia de `C` y `Java`:"
   ]
  },
  {
   "cell_type": "code",
   "execution_count": 48,
   "metadata": {},
   "outputs": [],
   "source": [
    "n = 10"
   ]
  },
  {
   "cell_type": "code",
   "execution_count": null,
   "metadata": {
    "colab": {
     "base_uri": "https://localhost:8080/",
     "height": 34
    },
    "executionInfo": {
     "elapsed": 618,
     "status": "ok",
     "timestamp": 1601027934498,
     "user": {
      "displayName": "Fernando Rubio",
      "photoUrl": "",
      "userId": "13613469116164460032"
     },
     "user_tz": -120
    },
    "id": "T5u1evLmXQsc",
    "outputId": "23f6773d-eee9-45ef-d19a-df45c78f36dc",
    "scrolled": true
   },
   "outputs": [],
   "source": [
    "if n >= 5:\n",
    "    if n < 5:\n",
    "        print(\"Foo\")\n",
    "    elif n == 10:\n",
    "        print(\"Bar\")\n",
    "    else:\n",
    "        print(\"Baz\")"
   ]
  },
  {
   "cell_type": "markdown",
   "metadata": {
    "id": "cM5FTbTVXQsj"
   },
   "source": [
    "El bucle `for` en `Python` es similar a la declaración `for-each` de `Java`, que recorre los elementos de un iterable:"
   ]
  },
  {
   "cell_type": "code",
   "execution_count": 50,
   "metadata": {},
   "outputs": [],
   "source": [
    "sequence = range(5)"
   ]
  },
  {
   "cell_type": "code",
   "execution_count": null,
   "metadata": {
    "colab": {
     "base_uri": "https://localhost:8080/",
     "height": 86
    },
    "executionInfo": {
     "elapsed": 538,
     "status": "ok",
     "timestamp": 1601028017336,
     "user": {
      "displayName": "Fernando Rubio",
      "photoUrl": "",
      "userId": "13613469116164460032"
     },
     "user_tz": -120
    },
    "id": "8Xa5ZsJlXQsk",
    "outputId": "93fc9cc3-c59f-490b-f63f-52e15f343e99"
   },
   "outputs": [],
   "source": [
    "# Empieza en 0 y acaba en 4 (5-1)\n",
    "for element in sequence:\n",
    "    print(element)"
   ]
  },
  {
   "cell_type": "code",
   "execution_count": null,
   "metadata": {},
   "outputs": [],
   "source": [
    "a = \"Hello, my name is Peter\"\n",
    "\n",
    "# 1 índice de inicio, 8 índice de fin, 6 tamaño del salto\n",
    "for element in a[1:8:7]:\n",
    "    print(element)"
   ]
  },
  {
   "cell_type": "code",
   "execution_count": null,
   "metadata": {},
   "outputs": [],
   "source": [
    "for element in a:\n",
    "    print(element, end=\"\")  # Por defecto el end=\"/n\" de ahí el salto de línea automático"
   ]
  },
  {
   "cell_type": "markdown",
   "metadata": {
    "id": "24WUb1apXQsf"
   },
   "source": [
    "El bucle `while` es similar a otros lenguajes:"
   ]
  },
  {
   "cell_type": "code",
   "execution_count": 101,
   "metadata": {},
   "outputs": [],
   "source": [
    "i = 0"
   ]
  },
  {
   "cell_type": "code",
   "execution_count": 34,
   "metadata": {
    "colab": {
     "base_uri": "https://localhost:8080/",
     "height": 208
    },
    "executionInfo": {
     "elapsed": 865,
     "status": "ok",
     "timestamp": 1601027968735,
     "user": {
      "displayName": "Fernando Rubio",
      "photoUrl": "",
      "userId": "13613469116164460032"
     },
     "user_tz": -120
    },
    "id": "1l88GaqoXQsg",
    "outputId": "f01e2481-1d4e-46f0-94b8-0d3b4d386bec"
   },
   "outputs": [
    {
     "name": "stdout",
     "output_type": "stream",
     "text": [
      "['5', '4', '4', '9', '9', '5', '5', '8', '4', '7']\n",
      "['4', '4', '4', '5', '5', '5', '7', '8', '9', '9']\n"
     ]
    }
   ],
   "source": [
    "import random\n",
    "list = []\n",
    "apend = []\n",
    "for i in range(10):\n",
    "    if i < 3:\n",
    "        list.append(random.randint(3, 9))\n",
    "    apend.append(f\"{random.randint(3, 9)}\")\n",
    "print(apend)\n",
    "apend.sort()\n",
    "print(apend)"
   ]
  },
  {
   "cell_type": "markdown",
   "metadata": {
    "id": "A0J3WEHNXQs7"
   },
   "source": [
    "#### Ejercicio\n",
    "\n",
    "Escribe un fragmento de código que imprima una secuencia de números del 1 al 100 pero cambie lo siguiente:\n",
    "\n",
    "* Los números divisibles por 3 por `\"Foo\"`.\n",
    "* Los números divisibles por 5 por `\"Bar\"`.\n",
    "* Los números divisibles por 3 y 5 por `\"FooBar\"`."
   ]
  },
  {
   "cell_type": "code",
   "execution_count": null,
   "metadata": {},
   "outputs": [],
   "source": [
    "# TODO: ESCRIBE TU CÓDIGO AQUÍ (HECHO EN CLASE)\n",
    "\n",
    "for element in range(1, 101):\n",
    "\n",
    "    if element%3==0 and element%5==0:\n",
    "        print(\"FooBar\")\n",
    "    elif element%5==0:\n",
    "        print(\"Bar\")\n",
    "    elif not element%3:\n",
    "        print(\"Foo\")\n",
    "    else:\n",
    "        print(element)"
   ]
  },
  {
   "cell_type": "markdown",
   "metadata": {
    "id": "iZURHqCoXQs-"
   },
   "source": [
    "### 1.3. Secuencias\n",
    "\n",
    "En resumen podemos decir que una secuencia de `Python` es el término genérico referido a un conjunto ordenado. A diferencia de `C` o `Java`, `Python` no proporciona la estructura de datos de un `array`, sino de una `list`:"
   ]
  },
  {
   "cell_type": "code",
   "execution_count": 59,
   "metadata": {
    "id": "ljJasYprXQtB"
   },
   "outputs": [],
   "source": [
    "sequence = [1, 2, 3]"
   ]
  },
  {
   "cell_type": "code",
   "execution_count": null,
   "metadata": {
    "scrolled": true
   },
   "outputs": [],
   "source": [
    "sequence"
   ]
  },
  {
   "cell_type": "markdown",
   "metadata": {},
   "source": [
    "De hecho, una `list` puede tener una longitud arbitraria:"
   ]
  },
  {
   "cell_type": "code",
   "execution_count": 61,
   "metadata": {
    "colab": {
     "base_uri": "https://localhost:8080/",
     "height": 34
    },
    "executionInfo": {
     "elapsed": 549,
     "status": "ok",
     "timestamp": 1601028172947,
     "user": {
      "displayName": "Fernando Rubio",
      "photoUrl": "",
      "userId": "13613469116164460032"
     },
     "user_tz": -120
    },
    "id": "I0Zyf_4CXQtD",
    "outputId": "2249013d-671d-40f7-cff1-08d17078fa3c"
   },
   "outputs": [],
   "source": [
    "sequence.append(4)"
   ]
  },
  {
   "cell_type": "code",
   "execution_count": null,
   "metadata": {},
   "outputs": [],
   "source": [
    "sequence"
   ]
  },
  {
   "cell_type": "markdown",
   "metadata": {},
   "source": [
    "Incluso objetos arbitrarios"
   ]
  },
  {
   "cell_type": "code",
   "execution_count": 63,
   "metadata": {
    "colab": {
     "base_uri": "https://localhost:8080/",
     "height": 34
    },
    "executionInfo": {
     "elapsed": 549,
     "status": "ok",
     "timestamp": 1601028172947,
     "user": {
      "displayName": "Fernando Rubio",
      "photoUrl": "",
      "userId": "13613469116164460032"
     },
     "user_tz": -120
    },
    "id": "I0Zyf_4CXQtD",
    "outputId": "2249013d-671d-40f7-cff1-08d17078fa3c"
   },
   "outputs": [],
   "source": [
    "sequence.append(\"Foo\")"
   ]
  },
  {
   "cell_type": "code",
   "execution_count": null,
   "metadata": {},
   "outputs": [],
   "source": [
    "sequence"
   ]
  },
  {
   "cell_type": "code",
   "execution_count": 65,
   "metadata": {},
   "outputs": [],
   "source": [
    "sequence.append(sequence)"
   ]
  },
  {
   "cell_type": "code",
   "execution_count": null,
   "metadata": {},
   "outputs": [],
   "source": [
    "sequence"
   ]
  },
  {
   "cell_type": "markdown",
   "metadata": {
    "id": "m9Y1CU4ZXQtP"
   },
   "source": [
    "Una `tuple` es otro tipo de secuencia:"
   ]
  },
  {
   "cell_type": "code",
   "execution_count": 67,
   "metadata": {
    "id": "vh2TIv0yXQtR"
   },
   "outputs": [],
   "source": [
    "sequence = (1, 2, 3, 4)"
   ]
  },
  {
   "cell_type": "code",
   "execution_count": null,
   "metadata": {
    "colab": {
     "base_uri": "https://localhost:8080/",
     "height": 34
    },
    "executionInfo": {
     "elapsed": 647,
     "status": "ok",
     "timestamp": 1601028201882,
     "user": {
      "displayName": "Fernando Rubio",
      "photoUrl": "",
      "userId": "13613469116164460032"
     },
     "user_tz": -120
    },
    "id": "wRrMSWtrt4tK",
    "outputId": "aff2bbd4-ced8-42a8-f550-34eab6bf2fca"
   },
   "outputs": [],
   "source": [
    "sequence"
   ]
  },
  {
   "cell_type": "markdown",
   "metadata": {},
   "source": [
    "Pero estas sí son inmutables:"
   ]
  },
  {
   "cell_type": "code",
   "execution_count": 70,
   "metadata": {
    "colab": {
     "base_uri": "https://localhost:8080/",
     "height": 202
    },
    "executionInfo": {
     "elapsed": 655,
     "status": "error",
     "timestamp": 1601028213543,
     "user": {
      "displayName": "Fernando Rubio",
      "photoUrl": "",
      "userId": "13613469116164460032"
     },
     "user_tz": -120
    },
    "id": "A56cRjGqXQtU",
    "outputId": "2b3fe4b7-8688-4f1f-e1c2-64351f31ee20"
   },
   "outputs": [],
   "source": [
    "# Si no comentamos la siguiente sección resultará en un error\n",
    "# sequence.append(5)"
   ]
  },
  {
   "cell_type": "markdown",
   "metadata": {},
   "source": [
    "Para ello debemos crear una nueva `tuple`:"
   ]
  },
  {
   "cell_type": "code",
   "execution_count": 71,
   "metadata": {
    "id": "Bixa4zfzXQtc"
   },
   "outputs": [],
   "source": [
    "sequence = sequence + (5, 6)"
   ]
  },
  {
   "cell_type": "code",
   "execution_count": null,
   "metadata": {
    "colab": {
     "base_uri": "https://localhost:8080/",
     "height": 34
    },
    "executionInfo": {
     "elapsed": 588,
     "status": "ok",
     "timestamp": 1601028236405,
     "user": {
      "displayName": "Fernando Rubio",
      "photoUrl": "",
      "userId": "13613469116164460032"
     },
     "user_tz": -120
    },
    "id": "vlzaJH6pxBU-",
    "outputId": "b26ba824-e0ff-4bdf-b3eb-f5cdf79120bb"
   },
   "outputs": [],
   "source": [
    "sequence"
   ]
  },
  {
   "cell_type": "markdown",
   "metadata": {},
   "source": [
    "Lo mismo aplica para el tipo `str`:"
   ]
  },
  {
   "cell_type": "code",
   "execution_count": 73,
   "metadata": {
    "id": "yXsLZwFMXQth"
   },
   "outputs": [],
   "source": [
    "string = \"Hello\""
   ]
  },
  {
   "cell_type": "code",
   "execution_count": 75,
   "metadata": {
    "colab": {
     "base_uri": "https://localhost:8080/",
     "height": 202
    },
    "executionInfo": {
     "elapsed": 622,
     "status": "error",
     "timestamp": 1601028278214,
     "user": {
      "displayName": "Fernando Rubio",
      "photoUrl": "",
      "userId": "13613469116164460032"
     },
     "user_tz": -120
    },
    "id": "y7bkmbw2XQtm",
    "outputId": "142d0de4-4f27-4bb9-9746-f172a66037d5"
   },
   "outputs": [],
   "source": [
    "# Si no comentamos la siguiente sección resultará en un error\n",
    "# string.append(\"a\")"
   ]
  },
  {
   "cell_type": "code",
   "execution_count": 76,
   "metadata": {
    "colab": {
     "base_uri": "https://localhost:8080/",
     "height": 36
    },
    "executionInfo": {
     "elapsed": 560,
     "status": "ok",
     "timestamp": 1601028300515,
     "user": {
      "displayName": "Fernando Rubio",
      "photoUrl": "",
      "userId": "13613469116164460032"
     },
     "user_tz": -120
    },
    "id": "1ecCw7G9uNmJ",
    "outputId": "85920e8d-c0c7-4598-edc8-459da0497ba5"
   },
   "outputs": [],
   "source": [
    "string = string + \" World\""
   ]
  },
  {
   "cell_type": "code",
   "execution_count": null,
   "metadata": {},
   "outputs": [],
   "source": [
    "string"
   ]
  },
  {
   "cell_type": "markdown",
   "metadata": {
    "id": "muiTOEw8XQtw"
   },
   "source": [
    "Se puede comprobar si un elemento se encuentra en una secuencia de forma muy sencilla:"
   ]
  },
  {
   "cell_type": "code",
   "execution_count": null,
   "metadata": {
    "colab": {
     "base_uri": "https://localhost:8080/",
     "height": 34
    },
    "executionInfo": {
     "elapsed": 577,
     "status": "ok",
     "timestamp": 1601028494528,
     "user": {
      "displayName": "Fernando Rubio",
      "photoUrl": "",
      "userId": "13613469116164460032"
     },
     "user_tz": -120
    },
    "id": "_oE59T-hXQtx",
    "outputId": "fb406ef9-3f8e-4075-f3e8-ec7c1a47e295"
   },
   "outputs": [],
   "source": [
    "6 in sequence"
   ]
  },
  {
   "cell_type": "code",
   "execution_count": null,
   "metadata": {
    "colab": {
     "base_uri": "https://localhost:8080/",
     "height": 34
    },
    "executionInfo": {
     "elapsed": 1596,
     "status": "ok",
     "timestamp": 1601028511332,
     "user": {
      "displayName": "Fernando Rubio",
      "photoUrl": "",
      "userId": "13613469116164460032"
     },
     "user_tz": -120
    },
    "id": "Afeahzq8XQty",
    "outputId": "4f1e1cc3-3774-4622-de86-933555570b4f"
   },
   "outputs": [],
   "source": [
    "6 not in sequence"
   ]
  },
  {
   "cell_type": "markdown",
   "metadata": {
    "id": "vuqcNbWVXQt2"
   },
   "source": [
    "Podemos concatenar secuencias:"
   ]
  },
  {
   "cell_type": "code",
   "execution_count": null,
   "metadata": {
    "colab": {
     "base_uri": "https://localhost:8080/",
     "height": 34
    },
    "executionInfo": {
     "elapsed": 752,
     "status": "ok",
     "timestamp": 1601028518230,
     "user": {
      "displayName": "Fernando Rubio",
      "photoUrl": "",
      "userId": "13613469116164460032"
     },
     "user_tz": -120
    },
    "id": "n_hYl-fTXQt3",
    "outputId": "df8e8f7f-7df9-47fc-a098-50d2dfd5899b"
   },
   "outputs": [],
   "source": [
    "sequence + sequence"
   ]
  },
  {
   "cell_type": "code",
   "execution_count": null,
   "metadata": {
    "colab": {
     "base_uri": "https://localhost:8080/",
     "height": 34
    },
    "executionInfo": {
     "elapsed": 512,
     "status": "ok",
     "timestamp": 1601028520548,
     "user": {
      "displayName": "Fernando Rubio",
      "photoUrl": "",
      "userId": "13613469116164460032"
     },
     "user_tz": -120
    },
    "id": "jhkCbCdOXQt5",
    "outputId": "147edc17-234b-4f94-b3b2-b671a44ce42e"
   },
   "outputs": [],
   "source": [
    "sequence * 3"
   ]
  },
  {
   "cell_type": "markdown",
   "metadata": {
    "id": "SrUQRJ3BXQt_"
   },
   "source": [
    "Y cortar una secuencia"
   ]
  },
  {
   "cell_type": "code",
   "execution_count": 82,
   "metadata": {},
   "outputs": [],
   "source": [
    "sequence = sequence + (7, 8)"
   ]
  },
  {
   "cell_type": "code",
   "execution_count": null,
   "metadata": {
    "colab": {
     "base_uri": "https://localhost:8080/",
     "height": 34
    },
    "executionInfo": {
     "elapsed": 567,
     "status": "ok",
     "timestamp": 1601028609448,
     "user": {
      "displayName": "Fernando Rubio",
      "photoUrl": "",
      "userId": "13613469116164460032"
     },
     "user_tz": -120
    },
    "id": "LC1ch-XzXQuD",
    "outputId": "8ee79ec8-2cf0-4200-b8cf-d009eff2cfcf"
   },
   "outputs": [],
   "source": [
    "sequence[1:3]"
   ]
  },
  {
   "cell_type": "code",
   "execution_count": null,
   "metadata": {
    "colab": {
     "base_uri": "https://localhost:8080/",
     "height": 34
    },
    "executionInfo": {
     "elapsed": 558,
     "status": "ok",
     "timestamp": 1601028627968,
     "user": {
      "displayName": "Fernando Rubio",
      "photoUrl": "",
      "userId": "13613469116164460032"
     },
     "user_tz": -120
    },
    "id": "fwkaMYW5XQuG",
    "outputId": "f9ca0854-d7d0-4696-b340-0e93ef11bb23"
   },
   "outputs": [],
   "source": [
    "sequence[:5]"
   ]
  },
  {
   "cell_type": "code",
   "execution_count": null,
   "metadata": {
    "colab": {
     "base_uri": "https://localhost:8080/",
     "height": 34
    },
    "executionInfo": {
     "elapsed": 545,
     "status": "ok",
     "timestamp": 1601028639618,
     "user": {
      "displayName": "Fernando Rubio",
      "photoUrl": "",
      "userId": "13613469116164460032"
     },
     "user_tz": -120
    },
    "id": "gZ5-uSHjXQuJ",
    "outputId": "9c871b19-fed6-42e7-f3f2-9fd3d816ea93"
   },
   "outputs": [],
   "source": [
    "sequence[5:]"
   ]
  },
  {
   "cell_type": "code",
   "execution_count": null,
   "metadata": {
    "colab": {
     "base_uri": "https://localhost:8080/",
     "height": 34
    },
    "executionInfo": {
     "elapsed": 558,
     "status": "ok",
     "timestamp": 1601028662783,
     "user": {
      "displayName": "Fernando Rubio",
      "photoUrl": "",
      "userId": "13613469116164460032"
     },
     "user_tz": -120
    },
    "id": "beN0XbXnXQuO",
    "outputId": "8b820ff9-6c04-48e0-fb91-93dd1328c3e1"
   },
   "outputs": [],
   "source": [
    "sequence[2::2]"
   ]
  },
  {
   "cell_type": "code",
   "execution_count": null,
   "metadata": {
    "colab": {
     "base_uri": "https://localhost:8080/",
     "height": 34
    },
    "executionInfo": {
     "elapsed": 784,
     "status": "ok",
     "timestamp": 1601028689707,
     "user": {
      "displayName": "Fernando Rubio",
      "photoUrl": "",
      "userId": "13613469116164460032"
     },
     "user_tz": -120
    },
    "id": "n3DECG7hXQuW",
    "outputId": "5a2b68a8-a2a2-40b0-e832-371cbd81ac2f"
   },
   "outputs": [],
   "source": [
    "sequence[-1]"
   ]
  },
  {
   "cell_type": "code",
   "execution_count": null,
   "metadata": {
    "colab": {
     "base_uri": "https://localhost:8080/",
     "height": 34
    },
    "executionInfo": {
     "elapsed": 505,
     "status": "ok",
     "timestamp": 1601028695085,
     "user": {
      "displayName": "Fernando Rubio",
      "photoUrl": "",
      "userId": "13613469116164460032"
     },
     "user_tz": -120
    },
    "id": "jqTYW7qtXQuX",
    "outputId": "f64bd93e-82cd-41be-dfac-25644daee843"
   },
   "outputs": [],
   "source": [
    "sequence[-2]"
   ]
  },
  {
   "cell_type": "code",
   "execution_count": null,
   "metadata": {},
   "outputs": [],
   "source": [
    "sequence[:-1]"
   ]
  },
  {
   "cell_type": "code",
   "execution_count": null,
   "metadata": {},
   "outputs": [],
   "source": [
    "sequence[2:-2]"
   ]
  },
  {
   "cell_type": "markdown",
   "metadata": {
    "id": "HXfZpbebXQud"
   },
   "source": [
    "Tenemos a nuestra disposición algunas funciones interesantes para aplicar sobre secuencias:"
   ]
  },
  {
   "cell_type": "code",
   "execution_count": 90,
   "metadata": {},
   "outputs": [],
   "source": [
    "sequence = sequence + sequence"
   ]
  },
  {
   "cell_type": "code",
   "execution_count": null,
   "metadata": {},
   "outputs": [],
   "source": [
    "min(sequence)"
   ]
  },
  {
   "cell_type": "code",
   "execution_count": null,
   "metadata": {
    "colab": {
     "base_uri": "https://localhost:8080/",
     "height": 34
    },
    "executionInfo": {
     "elapsed": 621,
     "status": "ok",
     "timestamp": 1601028725363,
     "user": {
      "displayName": "Fernando Rubio",
      "photoUrl": "",
      "userId": "13613469116164460032"
     },
     "user_tz": -120
    },
    "id": "sEqa9EnVXQud",
    "outputId": "47e28b32-4733-410e-d6d7-7d9936fc1030"
   },
   "outputs": [],
   "source": [
    "max(sequence)"
   ]
  },
  {
   "cell_type": "code",
   "execution_count": null,
   "metadata": {
    "colab": {
     "base_uri": "https://localhost:8080/",
     "height": 34
    },
    "executionInfo": {
     "elapsed": 632,
     "status": "ok",
     "timestamp": 1601028727582,
     "user": {
      "displayName": "Fernando Rubio",
      "photoUrl": "",
      "userId": "13613469116164460032"
     },
     "user_tz": -120
    },
    "id": "NmUKxY3OXQug",
    "outputId": "bd72b4b6-4af6-4c3d-9b1a-2117b845c87b"
   },
   "outputs": [],
   "source": [
    "len(sequence)"
   ]
  },
  {
   "cell_type": "code",
   "execution_count": 96,
   "metadata": {
    "colab": {
     "base_uri": "https://localhost:8080/",
     "height": 34
    },
    "executionInfo": {
     "elapsed": 554,
     "status": "ok",
     "timestamp": 1601028734192,
     "user": {
      "displayName": "Fernando Rubio",
      "photoUrl": "",
      "userId": "13613469116164460032"
     },
     "user_tz": -120
    },
    "id": "dFcAmCAKXQuj",
    "outputId": "a53cf3c1-9869-48c1-c8a8-eda8f9976ad4"
   },
   "outputs": [],
   "source": [
    "# Si no comentamos la siguiente sección resultará en un error, busca el 9 en la secuencia\n",
    "# sequence.index(9)"
   ]
  },
  {
   "cell_type": "code",
   "execution_count": null,
   "metadata": {},
   "outputs": [],
   "source": [
    "sequence.index(1)"
   ]
  },
  {
   "cell_type": "code",
   "execution_count": null,
   "metadata": {},
   "outputs": [],
   "source": [
    "sequence"
   ]
  },
  {
   "cell_type": "code",
   "execution_count": null,
   "metadata": {},
   "outputs": [],
   "source": [
    "sequence.count(10)"
   ]
  },
  {
   "cell_type": "code",
   "execution_count": null,
   "metadata": {},
   "outputs": [],
   "source": [
    "sequence.count(1)"
   ]
  },
  {
   "cell_type": "markdown",
   "metadata": {},
   "source": [
    "La secuencia `range` es bastante útil para iterar porque no se almacena en la memoria (muy útil más adelante):"
   ]
  },
  {
   "cell_type": "code",
   "execution_count": null,
   "metadata": {
    "colab": {
     "base_uri": "https://localhost:8080/",
     "height": 86
    },
    "executionInfo": {
     "elapsed": 580,
     "status": "ok",
     "timestamp": 1601028901495,
     "user": {
      "displayName": "Fernando Rubio",
      "photoUrl": "",
      "userId": "13613469116164460032"
     },
     "user_tz": -120
    },
    "id": "Ul40liWZXQun",
    "outputId": "b32bcec0-4102-4b6b-c77a-de1b84332c65"
   },
   "outputs": [],
   "source": [
    "for i in range(3, 10, 2):\n",
    "    print(i)"
   ]
  },
  {
   "cell_type": "markdown",
   "metadata": {},
   "source": [
    "Hay operaciones especiales para secuencias mutables:"
   ]
  },
  {
   "cell_type": "code",
   "execution_count": 100,
   "metadata": {
    "colab": {
     "base_uri": "https://localhost:8080/",
     "height": 34
    },
    "executionInfo": {
     "elapsed": 588,
     "status": "ok",
     "timestamp": 1601028959064,
     "user": {
      "displayName": "Fernando Rubio",
      "photoUrl": "",
      "userId": "13613469116164460032"
     },
     "user_tz": -120
    },
    "id": "ujAAFoOdXQuq",
    "outputId": "cf708705-e328-48c2-fa27-e8acc2ad2126"
   },
   "outputs": [],
   "source": [
    "sequence = [1, 2, 3, 4, 5] "
   ]
  },
  {
   "cell_type": "code",
   "execution_count": 101,
   "metadata": {
    "id": "A3RKTUXMXQur"
   },
   "outputs": [],
   "source": [
    "sequence[0] = 0"
   ]
  },
  {
   "cell_type": "code",
   "execution_count": null,
   "metadata": {
    "colab": {
     "base_uri": "https://localhost:8080/",
     "height": 34
    },
    "executionInfo": {
     "elapsed": 565,
     "status": "ok",
     "timestamp": 1601028966114,
     "user": {
      "displayName": "Fernando Rubio",
      "photoUrl": "",
      "userId": "13613469116164460032"
     },
     "user_tz": -120
    },
    "id": "j01KTkx2XQut",
    "outputId": "9bd7f54e-f091-4b88-91ad-73058ddf5a79"
   },
   "outputs": [],
   "source": [
    "sequence"
   ]
  },
  {
   "cell_type": "code",
   "execution_count": 103,
   "metadata": {
    "id": "PafqfA1VXQuu"
   },
   "outputs": [],
   "source": [
    "sequence[1:4] = [3, 2, 1]"
   ]
  },
  {
   "cell_type": "code",
   "execution_count": null,
   "metadata": {
    "colab": {
     "base_uri": "https://localhost:8080/",
     "height": 34
    },
    "executionInfo": {
     "elapsed": 660,
     "status": "ok",
     "timestamp": 1601028979898,
     "user": {
      "displayName": "Fernando Rubio",
      "photoUrl": "",
      "userId": "13613469116164460032"
     },
     "user_tz": -120
    },
    "id": "jV9b87PUXQuv",
    "outputId": "d7d4d5f0-e06d-4e12-9ba3-85c43f1e9697"
   },
   "outputs": [],
   "source": [
    "sequence"
   ]
  },
  {
   "cell_type": "code",
   "execution_count": 105,
   "metadata": {
    "id": "O-Sb9J1rXQux"
   },
   "outputs": [],
   "source": [
    "del sequence[:3]"
   ]
  },
  {
   "cell_type": "code",
   "execution_count": null,
   "metadata": {
    "colab": {
     "base_uri": "https://localhost:8080/",
     "height": 34
    },
    "executionInfo": {
     "elapsed": 927,
     "status": "ok",
     "timestamp": 1601028993638,
     "user": {
      "displayName": "Fernando Rubio",
      "photoUrl": "",
      "userId": "13613469116164460032"
     },
     "user_tz": -120
    },
    "id": "pdkBmXsnXQuy",
    "outputId": "f58e132a-2917-4898-fb41-d5ac6080f0e6",
    "scrolled": true
   },
   "outputs": [],
   "source": [
    "# El del lo borra\n",
    "sequence"
   ]
  },
  {
   "cell_type": "code",
   "execution_count": 107,
   "metadata": {},
   "outputs": [],
   "source": [
    "sequence += [1, 2, 3] "
   ]
  },
  {
   "cell_type": "code",
   "execution_count": null,
   "metadata": {
    "colab": {
     "base_uri": "https://localhost:8080/",
     "height": 34
    },
    "executionInfo": {
     "elapsed": 620,
     "status": "ok",
     "timestamp": 1601029021835,
     "user": {
      "displayName": "Fernando Rubio",
      "photoUrl": "",
      "userId": "13613469116164460032"
     },
     "user_tz": -120
    },
    "id": "22OVRFzoXQu2",
    "outputId": "0c86dd85-278e-4e85-91e8-c753e8299532"
   },
   "outputs": [],
   "source": [
    "sequence"
   ]
  },
  {
   "cell_type": "markdown",
   "metadata": {},
   "source": [
    "Algunas combinaciones interesantes:"
   ]
  },
  {
   "cell_type": "code",
   "execution_count": 109,
   "metadata": {
    "colab": {
     "base_uri": "https://localhost:8080/",
     "height": 34
    },
    "executionInfo": {
     "elapsed": 491,
     "status": "ok",
     "timestamp": 1601029091133,
     "user": {
      "displayName": "Fernando Rubio",
      "photoUrl": "",
      "userId": "13613469116164460032"
     },
     "user_tz": -120
    },
    "id": "Wz_M8OUjXQu5",
    "outputId": "b39216f5-a229-442d-faf0-5c00a14f5e09"
   },
   "outputs": [],
   "source": [
    "if 1 in sequence:\n",
    "    sequence.remove(1)"
   ]
  },
  {
   "cell_type": "code",
   "execution_count": null,
   "metadata": {},
   "outputs": [],
   "source": [
    "# Solo borra el primero\n",
    "sequence"
   ]
  },
  {
   "cell_type": "markdown",
   "metadata": {
    "id": "gqBBsBEdXQu7"
   },
   "source": [
    "Para más información leer: https://docs.python.org/3/library/stdtypes.html."
   ]
  },
  {
   "cell_type": "markdown",
   "metadata": {
    "id": "98xuFJ_FXQu7"
   },
   "source": [
    "#### Ejercicio\n",
    "\n",
    "Crea dos listas, una con las potencias de 2 y otra con las de 5 (exponente de 1 a 10). Luego, multiplica los elementos de ambas listas. Por ejemplo:\n",
    "\n",
    "$$ [2, 4, 8] * [3, 9, 27] = [6, 36, 216] $$"
   ]
  },
  {
   "cell_type": "code",
   "execution_count": null,
   "metadata": {
    "id": "x6TAXhM8XQu7",
    "scrolled": true
   },
   "outputs": [],
   "source": [
    "# TODO: ESCRIBE TU CÓDIGO AQUÍ"
   ]
  },
  {
   "cell_type": "markdown",
   "metadata": {
    "id": "whvvh4QVXQu8"
   },
   "source": [
    "### 1.3. Diccionarios y sets\n",
    "\n",
    "Los diccionarios en `Python` son similares al `HashMap` de `Java`:"
   ]
  },
  {
   "cell_type": "code",
   "execution_count": 111,
   "metadata": {
    "id": "FpNg35bxXQu9"
   },
   "outputs": [],
   "source": [
    "dictionary = {\"foo\": 1, \"bar\": 2}"
   ]
  },
  {
   "cell_type": "code",
   "execution_count": null,
   "metadata": {
    "colab": {
     "base_uri": "https://localhost:8080/",
     "height": 34
    },
    "executionInfo": {
     "elapsed": 530,
     "status": "ok",
     "timestamp": 1601029267069,
     "user": {
      "displayName": "Fernando Rubio",
      "photoUrl": "",
      "userId": "13613469116164460032"
     },
     "user_tz": -120
    },
    "id": "01TBnlWHXQu_",
    "outputId": "a63a6eb5-3fe7-4e8e-b30e-d51a66984435"
   },
   "outputs": [],
   "source": [
    "dictionary"
   ]
  },
  {
   "cell_type": "code",
   "execution_count": null,
   "metadata": {},
   "outputs": [],
   "source": [
    "dictionary[\"foo\"]"
   ]
  },
  {
   "cell_type": "markdown",
   "metadata": {
    "id": "ezKAfyMEXQvB"
   },
   "source": [
    "La key debe mantenerse inmutable al `object`:"
   ]
  },
  {
   "cell_type": "code",
   "execution_count": 114,
   "metadata": {
    "colab": {
     "base_uri": "https://localhost:8080/",
     "height": 34
    },
    "executionInfo": {
     "elapsed": 586,
     "status": "ok",
     "timestamp": 1601029311130,
     "user": {
      "displayName": "Fernando Rubio",
      "photoUrl": "",
      "userId": "13613469116164460032"
     },
     "user_tz": -120
    },
    "id": "PILQX5P5XQvB",
    "outputId": "eb457e64-e83e-4aa5-8cb4-51dc0324ecfb"
   },
   "outputs": [],
   "source": [
    "dictionary = {(0, 0): 0.2, (0, 1): 0.8, (1, 0): 0.3, (1, 1): 0.7}"
   ]
  },
  {
   "cell_type": "code",
   "execution_count": null,
   "metadata": {
    "colab": {
     "base_uri": "https://localhost:8080/",
     "height": 34
    },
    "executionInfo": {
     "elapsed": 621,
     "status": "ok",
     "timestamp": 1601028725363,
     "user": {
      "displayName": "Fernando Rubio",
      "photoUrl": "",
      "userId": "13613469116164460032"
     },
     "user_tz": -120
    },
    "id": "sEqa9EnVXQud",
    "outputId": "47e28b32-4733-410e-d6d7-7d9936fc1030"
   },
   "outputs": [],
   "source": [
    "dictionary"
   ]
  },
  {
   "cell_type": "markdown",
   "metadata": {
    "id": "0pViTE4nXQvG"
   },
   "source": [
    "Podemos asignar (a) o eliminar (de) un diccionario:"
   ]
  },
  {
   "cell_type": "code",
   "execution_count": 116,
   "metadata": {
    "colab": {
     "base_uri": "https://localhost:8080/",
     "height": 34
    },
    "executionInfo": {
     "elapsed": 627,
     "status": "ok",
     "timestamp": 1601029327649,
     "user": {
      "displayName": "Fernando Rubio",
      "photoUrl": "",
      "userId": "13613469116164460032"
     },
     "user_tz": -120
    },
    "id": "ma7tRMWgXQvH",
    "outputId": "a719459d-b1fc-4ca2-a765-4d151ce04343"
   },
   "outputs": [],
   "source": [
    "dictionary[\"foo\"] = [1, 2, 3, 4]"
   ]
  },
  {
   "cell_type": "code",
   "execution_count": null,
   "metadata": {},
   "outputs": [],
   "source": [
    "dictionary"
   ]
  },
  {
   "cell_type": "code",
   "execution_count": 118,
   "metadata": {
    "colab": {
     "base_uri": "https://localhost:8080/",
     "height": 34
    },
    "executionInfo": {
     "elapsed": 580,
     "status": "ok",
     "timestamp": 1601029341858,
     "user": {
      "displayName": "Fernando Rubio",
      "photoUrl": "",
      "userId": "13613469116164460032"
     },
     "user_tz": -120
    },
    "id": "vGE9W92xXQvK",
    "outputId": "d52891df-2b30-4ef1-9c36-140b896c1d6b"
   },
   "outputs": [],
   "source": [
    "del dictionary[\"foo\"]"
   ]
  },
  {
   "cell_type": "code",
   "execution_count": null,
   "metadata": {},
   "outputs": [],
   "source": [
    "dictionary"
   ]
  },
  {
   "cell_type": "markdown",
   "metadata": {
    "id": "Elq0H8JrXQvM"
   },
   "source": [
    "Podemos utilizar algunas de las funciones de las secuencias en los diccionarios:"
   ]
  },
  {
   "cell_type": "code",
   "execution_count": null,
   "metadata": {
    "colab": {
     "base_uri": "https://localhost:8080/",
     "height": 34
    },
    "executionInfo": {
     "elapsed": 559,
     "status": "ok",
     "timestamp": 1601029374323,
     "user": {
      "displayName": "Fernando Rubio",
      "photoUrl": "",
      "userId": "13613469116164460032"
     },
     "user_tz": -120
    },
    "id": "Ug_oAi5XXQvN",
    "outputId": "7982590f-7003-41e3-cb9c-2dc03bc53c6a"
   },
   "outputs": [],
   "source": [
    "len(dictionary)"
   ]
  },
  {
   "cell_type": "code",
   "execution_count": null,
   "metadata": {
    "colab": {
     "base_uri": "https://localhost:8080/",
     "height": 34
    },
    "executionInfo": {
     "elapsed": 837,
     "status": "ok",
     "timestamp": 1601029388464,
     "user": {
      "displayName": "Fernando Rubio",
      "photoUrl": "",
      "userId": "13613469116164460032"
     },
     "user_tz": -120
    },
    "id": "u4Nyd7oiXQvQ",
    "outputId": "e446faf0-4dd9-4c79-cb8c-d278f1f3504b"
   },
   "outputs": [],
   "source": [
    "(2, 0) in dictionary"
   ]
  },
  {
   "cell_type": "code",
   "execution_count": null,
   "metadata": {
    "colab": {
     "base_uri": "https://localhost:8080/",
     "height": 34
    },
    "executionInfo": {
     "elapsed": 610,
     "status": "ok",
     "timestamp": 1601029388467,
     "user": {
      "displayName": "Fernando Rubio",
      "photoUrl": "",
      "userId": "13613469116164460032"
     },
     "user_tz": -120
    },
    "id": "X1wdfHwwXQvR",
    "outputId": "6f65b66f-e221-4d4d-9d36-b131fbc309ee"
   },
   "outputs": [],
   "source": [
    "(1, 1) in dictionary"
   ]
  },
  {
   "cell_type": "code",
   "execution_count": null,
   "metadata": {},
   "outputs": [],
   "source": [
    "(1, 1) in sequence"
   ]
  },
  {
   "cell_type": "markdown",
   "metadata": {},
   "source": [
    "Finalmente, podemos almacenar y leer diccionarios de archivos de texto como archivos JSON, pero las claves deben ser `str`, `int`, `float` o `bool`:"
   ]
  },
  {
   "cell_type": "code",
   "execution_count": 123,
   "metadata": {},
   "outputs": [],
   "source": [
    "import json\n",
    "\n",
    "dictionary = {\"foo\": 1, \"bar\": 2}\n",
    "with open('dictionary.json', 'w+') as file:\n",
    "    json.dump(dictionary, file)"
   ]
  },
  {
   "cell_type": "markdown",
   "metadata": {},
   "source": [
    "Y para cargar ese mismo diccionario:"
   ]
  },
  {
   "cell_type": "code",
   "execution_count": null,
   "metadata": {},
   "outputs": [],
   "source": [
    "with open('dictionary.json', 'r') as file:\n",
    "    new_dictionary = json.load(file)\n",
    "\n",
    "new_dictionary"
   ]
  },
  {
   "cell_type": "markdown",
   "metadata": {
    "id": "dYKKU6cIXQvT"
   },
   "source": [
    "Por otro lado, los sets son similares a la estructura de datos `HashSet` de `Java`:"
   ]
  },
  {
   "cell_type": "code",
   "execution_count": null,
   "metadata": {
    "id": "Gl5AraRPXQvU"
   },
   "outputs": [],
   "source": [
    "{1, 2, 3}"
   ]
  },
  {
   "cell_type": "markdown",
   "metadata": {
    "id": "24YgRvlzXQvX"
   },
   "source": [
    "Podemos realizar las típicas operaciones sobre sets:"
   ]
  },
  {
   "cell_type": "code",
   "execution_count": null,
   "metadata": {
    "colab": {
     "base_uri": "https://localhost:8080/",
     "height": 34
    },
    "executionInfo": {
     "elapsed": 754,
     "status": "ok",
     "timestamp": 1601029428062,
     "user": {
      "displayName": "Fernando Rubio",
      "photoUrl": "",
      "userId": "13613469116164460032"
     },
     "user_tz": -120
    },
    "id": "20Rb7bREXQva",
    "outputId": "120087d9-e59a-4d99-e5c8-b30894aa2416"
   },
   "outputs": [],
   "source": [
    "{1, 2} | {2, 3}  # Union"
   ]
  },
  {
   "cell_type": "code",
   "execution_count": null,
   "metadata": {
    "colab": {
     "base_uri": "https://localhost:8080/",
     "height": 34
    },
    "executionInfo": {
     "elapsed": 561,
     "status": "ok",
     "timestamp": 1601029429064,
     "user": {
      "displayName": "Fernando Rubio",
      "photoUrl": "",
      "userId": "13613469116164460032"
     },
     "user_tz": -120
    },
    "id": "cEqQn_u2XQvd",
    "outputId": "cedf39c6-cda4-4b4d-96db-0fa8ed368043"
   },
   "outputs": [],
   "source": [
    "{1, 2} & {2, 3}  # Intersection"
   ]
  },
  {
   "cell_type": "code",
   "execution_count": null,
   "metadata": {
    "colab": {
     "base_uri": "https://localhost:8080/",
     "height": 34
    },
    "executionInfo": {
     "elapsed": 399,
     "status": "ok",
     "timestamp": 1601029430121,
     "user": {
      "displayName": "Fernando Rubio",
      "photoUrl": "",
      "userId": "13613469116164460032"
     },
     "user_tz": -120
    },
    "id": "uXFc9jSEXQvf",
    "outputId": "7b02daa8-0762-478f-d57c-41eeacb73157"
   },
   "outputs": [],
   "source": [
    "{1, 2} <= {1, 2, 3}  # Subset"
   ]
  },
  {
   "cell_type": "code",
   "execution_count": null,
   "metadata": {
    "colab": {
     "base_uri": "https://localhost:8080/",
     "height": 34
    },
    "executionInfo": {
     "elapsed": 541,
     "status": "ok",
     "timestamp": 1601029432072,
     "user": {
      "displayName": "Fernando Rubio",
      "photoUrl": "",
      "userId": "13613469116164460032"
     },
     "user_tz": -120
    },
    "id": "rxU-HpFOXQvh",
    "outputId": "74b72b09-8e0e-4fb2-d478-4dc9e775742e"
   },
   "outputs": [],
   "source": [
    "{1, 2, 3} >= {1, 2}  # Superset"
   ]
  },
  {
   "cell_type": "code",
   "execution_count": null,
   "metadata": {
    "colab": {
     "base_uri": "https://localhost:8080/",
     "height": 34
    },
    "executionInfo": {
     "elapsed": 536,
     "status": "ok",
     "timestamp": 1601029433599,
     "user": {
      "displayName": "Fernando Rubio",
      "photoUrl": "",
      "userId": "13613469116164460032"
     },
     "user_tz": -120
    },
    "id": "J2VU_wbLXQvi",
    "outputId": "36e02634-7f76-40f2-91dd-25fbbb552691"
   },
   "outputs": [],
   "source": [
    "1 in {2, 3, 4}  # Membership"
   ]
  },
  {
   "cell_type": "markdown",
   "metadata": {
    "id": "-4YmOIzoXQvk"
   },
   "source": [
    "#### Ejercicio\n",
    "\n",
    "Cuenta la frecuencia de los elementos en la siguiente `list`:"
   ]
  },
  {
   "cell_type": "code",
   "execution_count": 214,
   "metadata": {},
   "outputs": [],
   "source": [
    "sequence = [1, 2, 3, 2, 1, 4, 5, 6, 7, 1, 3, 4, 5, 9] "
   ]
  },
  {
   "cell_type": "markdown",
   "metadata": {
    "id": "yrwVSdraXQvk"
   },
   "source": [
    "Y almacena el resultado en un diccionario:"
   ]
  },
  {
   "cell_type": "code",
   "execution_count": null,
   "metadata": {
    "id": "ZaytY7JQXQvl"
   },
   "outputs": [],
   "source": [
    "# TODO: ESCRIBE TU CÓDIGO AQUÍ"
   ]
  },
  {
   "cell_type": "code",
   "execution_count": 130,
   "metadata": {
    "id": "iWTsUahMXQwB"
   },
   "outputs": [],
   "source": [
    "sequence = [1, 2, 3, 4, 5]"
   ]
  },
  {
   "cell_type": "code",
   "execution_count": null,
   "metadata": {
    "colab": {
     "base_uri": "https://localhost:8080/",
     "height": 34
    },
    "executionInfo": {
     "elapsed": 537,
     "status": "ok",
     "timestamp": 1601030730553,
     "user": {
      "displayName": "Fernando Rubio",
      "photoUrl": "",
      "userId": "13613469116164460032"
     },
     "user_tz": -120
    },
    "id": "RKIlcMlMXQwB",
    "outputId": "74a8fd58-9e80-40ad-9960-a8e1c4fe4643"
   },
   "outputs": [],
   "source": [
    "[element * 2 for element in sequence]"
   ]
  },
  {
   "cell_type": "markdown",
   "metadata": {
    "id": "NZyORujaXQwD"
   },
   "source": [
    "Incluso incluyendo condiciones:"
   ]
  },
  {
   "cell_type": "code",
   "execution_count": null,
   "metadata": {
    "colab": {
     "base_uri": "https://localhost:8080/",
     "height": 34
    },
    "executionInfo": {
     "elapsed": 694,
     "status": "ok",
     "timestamp": 1601030792058,
     "user": {
      "displayName": "Fernando Rubio",
      "photoUrl": "",
      "userId": "13613469116164460032"
     },
     "user_tz": -120
    },
    "id": "L7ll1gRSXQwD",
    "outputId": "08a33e29-5c15-46e1-db3e-049c506b12bc"
   },
   "outputs": [],
   "source": [
    "[element ** 2 for element in sequence if (element % 2) != 0]"
   ]
  },
  {
   "cell_type": "markdown",
   "metadata": {
    "id": "qXR94s0pXQwE"
   },
   "source": [
    "Lo mismo aplica a los diccionarios:"
   ]
  },
  {
   "cell_type": "code",
   "execution_count": null,
   "metadata": {
    "colab": {
     "base_uri": "https://localhost:8080/",
     "height": 34
    },
    "executionInfo": {
     "elapsed": 516,
     "status": "ok",
     "timestamp": 1601030822847,
     "user": {
      "displayName": "Fernando Rubio",
      "photoUrl": "",
      "userId": "13613469116164460032"
     },
     "user_tz": -120
    },
    "id": "NFuGUcXgXQwE",
    "outputId": "3a1e23e1-7bc0-473e-92e8-65c08503ee91"
   },
   "outputs": [],
   "source": [
    "{element: element ** 2 for element in sequence if (element % 2) != 0}"
   ]
  },
  {
   "cell_type": "markdown",
   "metadata": {
    "id": "Nb5QIjpCXQwG"
   },
   "source": [
    "Y son incluso más rápidos"
   ]
  },
  {
   "cell_type": "markdown",
   "metadata": {
    "id": "jQQNHL3qXQvm"
   },
   "source": [
    "### 1.4. Funciones\n",
    "\n",
    "Podemos crear funciones en `Python` usando la siguiente sintaxis:"
   ]
  },
  {
   "cell_type": "code",
   "execution_count": 137,
   "metadata": {
    "id": "WzefzSIJXQvn"
   },
   "outputs": [],
   "source": [
    "def function(x, y, z=1):\n",
    "    return 2 * x * y * z"
   ]
  },
  {
   "cell_type": "code",
   "execution_count": null,
   "metadata": {
    "colab": {
     "base_uri": "https://localhost:8080/",
     "height": 34
    },
    "executionInfo": {
     "elapsed": 589,
     "status": "ok",
     "timestamp": 1601029669865,
     "user": {
      "displayName": "Fernando Rubio",
      "photoUrl": "",
      "userId": "13613469116164460032"
     },
     "user_tz": -120
    },
    "id": "3eQUwXzQXQvx",
    "outputId": "ab26a773-8525-4411-e16c-7a368f587c2a"
   },
   "outputs": [],
   "source": [
    "function(2, 3)"
   ]
  },
  {
   "cell_type": "markdown",
   "metadata": {
    "id": "3Zp-GlJyXQwJ"
   },
   "source": [
    "#### Ejercicio\n",
    "\n",
    "Crea una función que multiplique los elementos de la siguiente lista:"
   ]
  },
  {
   "cell_type": "code",
   "execution_count": 222,
   "metadata": {},
   "outputs": [],
   "source": [
    "sequence = [1, 1, 4, 6, 5, 9, 2]"
   ]
  },
  {
   "cell_type": "markdown",
   "metadata": {},
   "source": [
    "Por 2 si el número es par y por 3 en caso contrario."
   ]
  },
  {
   "cell_type": "code",
   "execution_count": null,
   "metadata": {
    "id": "UmvKt1bHqJBD"
   },
   "outputs": [],
   "source": [
    "# TODO: ESCRIBE TU CÓDIGO AQUÍ"
   ]
  },
  {
   "cell_type": "markdown",
   "metadata": {
    "id": "NyzL58kyXQv4"
   },
   "source": [
    "### 1.5. Clases"
   ]
  },
  {
   "cell_type": "markdown",
   "metadata": {
    "id": "F5jEC-W3XQv4"
   },
   "source": [
    "Podemos usar `Python` para habilidades de programación orientada a objetos:"
   ]
  },
  {
   "cell_type": "code",
   "execution_count": 153,
   "metadata": {
    "id": "hjmtmQJ4XQv4"
   },
   "outputs": [],
   "source": [
    "class Person:\n",
    "    \"\"\"Almacena información sobre una persona.\"\"\"\n",
    "\n",
    "    def __init__(self, name, age, sex):     #El self es obligatorio en todos los métodos de la clase, podeis probar el error que da si no lo poneis\n",
    "        \"\"\"Constructor.\"\"\"\n",
    "        self.name = name        #De esta forma se crean los atributos, OJO tened cuidado ya que no tienen asignado un tipo específico (por ejemplo age puede ser int o str)\n",
    "        self.age = age\n",
    "        self.sex = sex\n",
    "\n",
    "    def change(self, age):\n",
    "        \"\"\"Cambia la edad de la persona.\"\"\"\n",
    "        self.age = age\n",
    "\n",
    "    def __repr__(self):\n",
    "        \"\"\"Representa a una persona en un String.\"\"\"\n",
    "        return f\"{self.name}, {self.sex}, {self.age} years old.\""
   ]
  },
  {
   "cell_type": "code",
   "execution_count": 154,
   "metadata": {
    "id": "DwesYJ1GXQv6"
   },
   "outputs": [],
   "source": [
    "person = Person(\"Jimmy\", \"21\", \"boy\")"
   ]
  },
  {
   "cell_type": "code",
   "execution_count": null,
   "metadata": {
    "colab": {
     "base_uri": "https://localhost:8080/",
     "height": 34
    },
    "executionInfo": {
     "elapsed": 1054,
     "status": "ok",
     "timestamp": 1601030455492,
     "user": {
      "displayName": "Fernando Rubio",
      "photoUrl": "",
      "userId": "13613469116164460032"
     },
     "user_tz": -120
    },
    "id": "uiVOKoPnXQv8",
    "outputId": "e59455c6-e1a6-4d93-e5f1-e504c52bb665"
   },
   "outputs": [],
   "source": [
    "person.name, person.age, person.sex"
   ]
  },
  {
   "cell_type": "code",
   "execution_count": 152,
   "metadata": {
    "id": "waHxgt8RXQv7"
   },
   "outputs": [],
   "source": [
    "person.change(25)"
   ]
  },
  {
   "cell_type": "code",
   "execution_count": null,
   "metadata": {
    "colab": {
     "base_uri": "https://localhost:8080/",
     "height": 34
    },
    "executionInfo": {
     "elapsed": 1054,
     "status": "ok",
     "timestamp": 1601030455492,
     "user": {
      "displayName": "Fernando Rubio",
      "photoUrl": "",
      "userId": "13613469116164460032"
     },
     "user_tz": -120
    },
    "id": "uiVOKoPnXQv8",
    "outputId": "e59455c6-e1a6-4d93-e5f1-e504c52bb665"
   },
   "outputs": [],
   "source": [
    "person.age"
   ]
  },
  {
   "cell_type": "code",
   "execution_count": null,
   "metadata": {
    "colab": {
     "base_uri": "https://localhost:8080/",
     "height": 34
    },
    "executionInfo": {
     "elapsed": 842,
     "status": "ok",
     "timestamp": 1601030455800,
     "user": {
      "displayName": "Fernando Rubio",
      "photoUrl": "",
      "userId": "13613469116164460032"
     },
     "user_tz": -120
    },
    "id": "iz66q40110qz",
    "outputId": "a02519d1-ed3e-4915-e2cd-a09e4df2487f"
   },
   "outputs": [],
   "source": [
    "person"
   ]
  },
  {
   "cell_type": "markdown",
   "metadata": {
    "id": "dn7KZDaHXQv-"
   },
   "source": [
    "#### Ejercicio\n",
    "\n",
    "Crea la clase `Polynomial` cuyo parámetro en el constructor es una lista con los términos del polinomio. Además, la clase `Polynomial` debe proporcionar la operación `sum`:\n",
    "\n",
    "$$ P(x) = 1 - 2x + 3x^3 \\rightarrow [1, -2, 0, 3] $$\n",
    "\n",
    "$$ Q(x) = 2x^2 - 2x^3 \\rightarrow [0, 0, 2, -2] $$\n",
    "\n",
    "$$ P(x) + Q(x) = 1 - 2x + 2x^2 + x^3 $$"
   ]
  },
  {
   "cell_type": "code",
   "execution_count": 1,
   "metadata": {
    "id": "H0x1nJoVjQLv"
   },
   "outputs": [],
   "source": [
    "# TODO: ESCRIBE TU CÓDIGO AQUÍ"
   ]
  },
  {
   "cell_type": "markdown",
   "metadata": {},
   "source": [
    "#### Ejercicio (ampliación)\n",
    "\n",
    "Si alguno quiere poner los exponentes del ejercicio anterior correctamente (x²) en vez de \"x^2\" puede hacerlo con el siguiente diccionario y así practicais más de cara a las prácticas evaluables\n",
    "\n",
    " exponentes = { 0: '', 1: '¹', 2: '²', 3: '³', 4: '⁴', 5: '⁵', 6: '⁶', 7: '⁷', 8: '⁸', 9: '⁹' }"
   ]
  },
  {
   "cell_type": "code",
   "execution_count": null,
   "metadata": {},
   "outputs": [],
   "source": [
    "# TODO: ESCRIBE TU CÓDIGO AQUÍ"
   ]
  }
 ],
 "metadata": {
  "colab": {
   "collapsed_sections": [],
   "name": "WebinarPython.ipynb",
   "provenance": [],
   "toc_visible": true
  },
  "kernelspec": {
   "display_name": "Python 3",
   "language": "python",
   "name": "python3"
  },
  "language_info": {
   "codemirror_mode": {
    "name": "ipython",
    "version": 3
   },
   "file_extension": ".py",
   "mimetype": "text/x-python",
   "name": "python",
   "nbconvert_exporter": "python",
   "pygments_lexer": "ipython3",
   "version": "3.12.6"
  }
 },
 "nbformat": 4,
 "nbformat_minor": 4
}
