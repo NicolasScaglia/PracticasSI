{
 "cells": [
  {
   "cell_type": "markdown",
   "metadata": {},
   "source": [
    "# Sistemas Inteligentes\n",
    "\n",
    "## Curso académico 2024-2025\n",
    "\n",
    "### Práctica 1: Búsqueda en espacio de estados\n",
    "\n",
    "#### Profesores\n",
    "\n",
    "* Juan Carlos Alfaro Jiménez: JuanCarlos.Alfaro@uclm.es\n",
    "* María Julia Flores Gallego: Julia.Flores@uclm.es\n",
    "* Ismael García Varea: Ismael.Garcia@uclm.es\n",
    "* Adrián Rodríguez López: Adrian.Rodriguez18@alu.uclm.es"
   ]
  },
  {
   "cell_type": "markdown",
   "metadata": {
    "datalore": {
     "hide_input_from_viewers": false,
     "hide_output_from_viewers": false,
     "node_id": "BJiz7lonyeROocVlcYrKWu",
     "type": "MD"
    }
   },
   "source": [
    "## ¡Conducción autónoma!"
   ]
  },
  {
   "cell_type": "markdown",
   "metadata": {
    "datalore": {
     "hide_input_from_viewers": false,
     "hide_output_from_viewers": false,
     "node_id": "BJiz7lonyeROocVlcYrKWu",
     "type": "MD"
    }
   },
   "source": [
    "## 1. Introducción\n",
    "\n",
    "En el marco de un proyecto piloto del **Ministerio de Transportes y Movilidad Sostenible**, cuyo objetivo es proporcionar un servicio de desplazamiento urbano personalizado para personas con movilidad reducida, se nos ha encargado el estudio del despliegue de una flota de vehículos autónomos en diferentes localidades y ciudades del país en función de una serie de indicadores (tamaño de la población, densidad de población, demanda del servicio, etc.). Dichos vehículos autónomos deberán disponer de un sistema de conducción inteligente que permita a dichos vehículos llevar a una serie de personas desde un punto de origen hasta su destino de manera segura y eficiente.\n",
    "\n",
    "Dentro del proyecto, **por el momento, se nos pide diseñar un algoritmo que sea capaz de optimizar el transporte a una persona desde un lugar de origen a un destino específico** dentro de una ciudad. En este escenario, el vehículo autónomo deberá navegar por una red de calles e intersecciones urbanas, donde todas las rutas son potencialmente válidas. Sin embargo, **el sistema debe optimizar la selección del camino** no solo para encontrar una ruta válida, sino también para **minimizar el tiempo de recorrido**. Esto implica que la inteligencia artificial debe considerar factores como la distancia, la velocidad permitida en cada calle y cualquier otro factor relevante que pueda afectar al tiempo total del trayecto."
   ]
  },
  {
   "cell_type": "markdown",
   "metadata": {},
   "source": [
    "### 1.1. Objetivos de la práctica\n",
    "\n",
    "* Implementar las estrategias de búsqueda no informada **primero en anchura** y **primero en profundidad** para encontrar un camino desde el punto de partida hasta un lugar de destino.\n",
    "\n",
    "* Implementar las estrategias de búsqueda informada **primero mejor** y **A\\*** utilizando heurísticas apropiadas para resolver el problema en cuestión.\n",
    "\n",
    "En este trabajo pondremos en práctica las técnicas de búsqueda en estado de espacios. Para ello, se implementarán y utilizarán algunos de los algoritmos vistos en los temas dos y tres para resolver un problema clásico, esto es, buscar rutas en un grafo.\n",
    "\n",
    "También analizaremos y compararemos el rendimiento de los algoritmos ejecutándolos en diferentes instancias del problema y proporcionando distintos estados inicial y objetivo.\n",
    "\n",
    "Esperamos que esta práctica os ayude a profundizar en vuestra comprensión de las estrategias de búsqueda en inteligencia artificial y os anime a pensar en cómo se pueden aplicar estas técnicas en situaciones del mundo real para ayudar en operaciones de navegación y otras tareas críticas.\n",
    "\n",
    "**¡Buena suerte!**"
   ]
  },
  {
   "cell_type": "markdown",
   "metadata": {
    "datalore": {
     "hide_input_from_viewers": false,
     "hide_output_from_viewers": false,
     "node_id": "kf129lUYKXkYfl7kIPcDlq",
     "type": "MD"
    }
   },
   "source": [
    "## 2. Descripción del problema\n",
    "\n",
    "Deberéis resolver un problema en el que un vehículo autónomo debe encontrar la ruta más rápida entre dos intersecciones cualesquiera en una ciudad. El espacio de búsqueda está definido por un sistema vial urbano donde el vehículo puede moverse en varias direcciones para alcanzar su destino.\n",
    "\n",
    "Más formalmente, el problema se puede definir como:\n",
    "\n",
    "* Estado inicial: Un punto de partida que representa la intersección inicial del vehículo.\n",
    "* Estados: Todas las intersecciones de la ciudad son válidas para el tránsito y pueden ser visitadas por el vehículo.\n",
    "* Estado final: Llegar a la intersección de destino.\n",
    "* Acciones: Moverse de una intersección a otra a través de las calles de la ciudad."
   ]
  },
  {
   "cell_type": "markdown",
   "metadata": {},
   "source": [
    "### 2.1. Ejemplo ilustrativo:\n",
    "\n",
    "Un posible ejemplo de este problema podría ser el que se muestra en la siguiente imagen, que muestra una parte de la ciudad de Albacete:\n",
    "\n",
    "![title](figures/small/paseo_simón_abril_250_1.png)\n",
    "\n",
    "En este caso, el objetivo sería ir de la intersección con identificador `621983933`, representada en color verde; a la intersección con identificador `1322977378`, representada en color azul.\n",
    "\n",
    "---\n",
    "\n",
    "##### Nota:\n",
    "\n",
    "* El archivo de contiene la imagen debe guardarse en la ruta indicada en el código de esta celda.\n",
    "\n",
    "---"
   ]
  },
  {
   "cell_type": "markdown",
   "metadata": {
    "datalore": {
     "hide_input_from_viewers": false,
     "hide_output_from_viewers": false,
     "node_id": "6gYL6VoT3okFgLpKvyyAq7",
     "type": "MD"
    }
   },
   "source": [
    "## 3. Desarrollo de la práctica\n",
    "\n",
    "Durante el desarrollo de la práctica, se hará entrega un conjunto de instancias de problemas. La dimensionalidad será variable, y los algoritmos implementados deberán ser lo suficientemente eficientes para funcionar correctamente con todas las instancias proporcionadas. En la evaluación de la práctica se realizará con escenarios diferentes a los proporcionados, generados de forma automática y de diferente dimensionalidad."
   ]
  },
  {
   "cell_type": "markdown",
   "metadata": {},
   "source": [
    "### 3.1 Problemas de entrada\n",
    "\n",
    "Cada escenario vendrá dado en un archivo en formato `json` que contiene la siguiente información, siguiendo el formato de un diccionario cuyas claves son:\n",
    "\n",
    "* `address`: Dirección utilizada\n",
    "* `distance`: Radio máximo utilizado para sacar las intersecciones y segmentos alrededor de la dirección\n",
    "* `intersections`: Lista de diccionarios con la información de las intersecciones\n",
    "* `segments`: Lista de diccionarios con la información de los segmentos, esto es, calles entre dos intersecciones\n",
    "* `initial`: Intersección inicial\n",
    "* `final`: Intersección final\n",
    "\n",
    "En cada diccionario en `intersections`, hay tres claves:\n",
    "\n",
    "* `identifier`: Identificador de la intersección\n",
    "* `longitude`: Longitud de la intersección\n",
    "* `latitude`: Latitud de la intersección\n",
    "\n",
    "En cada diccionario en `segments`, hay cuatro claves:\n",
    "\n",
    "* `origin`: Intersección origen\n",
    "* `destination`: Intersección destino\n",
    "* `distance`: Distancia entre las dos intersecciones\n",
    "* `speed`: Velocidad máxima permitida entre las dos intersecciones"
   ]
  },
  {
   "cell_type": "markdown",
   "metadata": {
    "datalore": {
     "hide_input_from_viewers": false,
     "hide_output_from_viewers": false,
     "node_id": "XqiqZwKKFJXYVAdvmfoLoK",
     "type": "MD"
    }
   },
   "source": [
    "## 4. Plan de trabajo"
   ]
  },
  {
   "cell_type": "markdown",
   "metadata": {},
   "source": [
    "### 4.1. Tareas a realizar\n",
    "\n",
    "* Diseño del espacio de estados:\n",
    "    * Describir cómo se representará el espacio de estados, las acciones y el coste de las acciones.\n",
    "\n",
    "\n",
    "* Implementación de estrategias de búsqueda:\n",
    "    * Implementar al menos dos estrategias de búsqueda no informada.\n",
    "    * Implementar al menos dos estrategias de búsqueda informada, utilizando heurísticas adecuadas para encontrar rutas óptimas.\n",
    "\n",
    "\n",
    "* Experimentación y análisis:\n",
    "    * Analizar el rendimiento de las estrategias implementadas en términos de optimización de tiempo, espacio y rutas.\n",
    "    * Comparar y contrastar los resultados obtenidos de las diferentes estrategias de búsqueda.\n",
    "\n",
    "\n",
    "* Informe:\n",
    "    * Redactar un informe detallando el proceso seguido, las estrategias implementadas y los resultados obtenidos.\n",
    "\n",
    "\n",
    "A continuación se proporcionan más detalles de cada tarea."
   ]
  },
  {
   "cell_type": "markdown",
   "metadata": {},
   "source": [
    "### 4.2. Evaluación de la práctica\n",
    "\n",
    "La evaluación de la práctica se realizará mediante un examen individual en la que tendrá en cuenta:\n",
    "\n",
    "* La correcta implementación de las estrategias de búsqueda: 50%\n",
    "* El diseño del espacio de estados y heurísticas: 25%\n",
    "* La experimentación realizada y el análisis de resultados: 25%\n",
    "\n",
    "Todo ello ponderado por nivel de conocimiento que el estudiante ofrezca de la práctica en caso de que el examen sea una entrevista personal."
   ]
  },
  {
   "cell_type": "markdown",
   "metadata": {},
   "source": [
    "### 4.3. Fechas\n",
    "\n",
    "* Fecha límite para enviar el código: **31 de octubre de 2024**\n",
    "* Plazo de presentación del informe: **Final del cuatrimestre**"
   ]
  },
  {
   "cell_type": "markdown",
   "metadata": {},
   "source": [
    "### 4.4. Formalización del problema y ejemplos\n",
    "\n",
    "En primer lugar, la búsqueda de rutas en una ciudad debe formalizarse como un problema de búsqueda en espacio de estados, definiendo sus elementos básicos. Todas las implementaciones deben hacer referencia a la búsqueda en grafos, por lo que es importante tener en cuenta que se deben controlar los estados repetidos."
   ]
  },
  {
   "cell_type": "markdown",
   "metadata": {},
   "source": [
    "### 4.5. Implementación\n",
    "\n",
    "La implementación deberá realizarse en lenguaje `Python`. Para ello deberéis codificar vuestra propia estructura de clases para la formalización del problema y, posteriormente, implementar los algoritmos estudiados en las clases de teoría para resolver el problema de búsqueda planteado. Recomendamos crear una clase por cada entidad que define un problema de búsqueda, a saber, estado, acción, nodo, problema, búsqueda, etc.\n",
    "\n",
    "**Se recomienda probar cada una de las clases creadas tras su implementación para comprobar su correcto funcionamiento antes de integrarlas en el resto del código.**\n",
    "\n",
    "---\n",
    "\n",
    "##### Notas:\n",
    "\n",
    "* El orden de las acciones viene determinado por el estado destino cuyo identificador sea menor, es decir en caso de que en un punto dado (intersección) se puedan alcanzar diferentes destinos (parciales) se visitarán siguiendo un orden numérico creciente. Lo mismo aplica en caso de empate en los algoritmos de búsqueda informados.\n",
    "\n",
    "---"
   ]
  },
  {
   "cell_type": "markdown",
   "metadata": {
    "datalore": {
     "hide_input_from_viewers": false,
     "hide_output_from_viewers": false,
     "node_id": "6q3uoKPoKLFZnX2wHpx2mu",
     "type": "MD"
    }
   },
   "source": [
    "### 4.6. Estudio y mejora de los algoritmos\n",
    "\n",
    "Una vez implementados los algoritmos, se deberá realizar un estudio su rendimiento. Para ello, se deberá comparar la calidad de las soluciones obtenidas, así como el número de nodos expandidos para instancias de diferentes tamaños. Factores como el tamaño máximo de problema que se puede resolver sin que haya desbordamiento de memoria, o el efecto de utilizar escenarios más complejos, también son importantes. Además, se pueden proponer implementaciones alternativas que aumenten la eficiencia de los algoritmos."
   ]
  },
  {
   "cell_type": "markdown",
   "metadata": {
    "datalore": {
     "hide_input_from_viewers": false,
     "hide_output_from_viewers": false,
     "node_id": "TN8nQpEQOYIQynu67Jy1ln",
     "type": "MD"
    }
   },
   "source": [
    "### 4.7. Informe\n",
    "\n",
    "Además del cuaderno que contiene la implementación, el trabajo consiste en elaborar un informe, que tendrá una fecha de entrega posterior, pero que recomendamos que se realice a la vez que se desarrolle la práctica, tanto para el código como para la parte de estudio y mejora de los algoritmos.\n",
    "\n",
    "En particular, entre otros temas que se consideren de interés mencionar, en informe deberá incluir como mínimo:\n",
    "\n",
    "* Una breve descripción del problema, una descripción de la implementación, la evaluación del rendimiento y la descripción de las mejoras, si existen.\n",
    "\n",
    "* La formalización del problema.\n",
    "\n",
    "* Para algoritmos de búsqueda informados se deben proporcionar al menos dos heurísticas. Además de su descripción y motivación, se deberá incluir un análisis que indique si la heurística propuesta se considera admisible y consistente.\n",
    "\n",
    "* El estudio del rendimiento de los algoritmos implementados debe basarse en probar los algoritmos en varias instancias, presentando tablas o gráficos que resuman los resultados.\n",
    "\n",
    "**El informe no debe incluir figuras con código fuente**, a menos que sea necesario para explicar algún concepto clave como estructuras de datos, mejoras en eficiencia, etc. En tales casos, se permite incluir pseudocódigo con el formato adecuado.\n",
    "\n",
    "**Tampoco es recomendable incluir capturas de pantalla**."
   ]
  },
  {
   "cell_type": "markdown",
   "metadata": {
    "datalore": {
     "hide_input_from_viewers": false,
     "hide_output_from_viewers": false,
     "node_id": "Tinwe1v9Wx9ZaC9NcMPB1a",
     "type": "MD"
    }
   },
   "source": [
    "## 5. Presentación y evaluación\n",
    "\n",
    "Es muy recomendable realizar el trabajo por parejas, aunque se puede realizar de forma individual. El examen o entrevistas para la evaluación se realizarán la semana siguiente a la entrefa, y siempre de forma individual.\n",
    "\n",
    "Algunas consideraciones relacionadas con la evaluación:\n",
    "\n",
    "* Esta práctica cuenta un 40% de la nota de laboratorio. La segunda práctica necesitará la resolución previa de esta parte y cuenta un 60%.\n",
    "\n",
    "* La asistencia a las prácticas no es obligatoria, pero será la mejor base para resolver con éxito las prácticas.\n",
    "\n",
    "* Recordad que las dudas y preguntas sobre las prácticas de laboratorio deben resolverse principalmente en las sesiones de laboratorio.\n",
    "\n",
    "* Proporcionaremos un conjunto de casos de prueba preliminares que deben resolverse correctamente. En caso contrario, el trabajo se considerará no apto para su presentación.\n",
    "\n",
    "* Para obtener una puntuación en el práctica tendrás que responder, de forma individual, a una serie de preguntas sobre la organización del código y sobre cuestiones relacionadas.\n",
    "\n",
    "* **En la evaluación no continua se requerirá la implementación de las mismas estrategias de búsqueda más**:\n",
    "    * Búsqueda en profundidad limitada\n",
    "    * Búsqueda en profundidad iterativa\n",
    "    \n",
    "    ***También se pueden requerir características adicionales**."
   ]
  },
  {
   "cell_type": "code",
   "execution_count": 6,
   "metadata": {},
   "outputs": [
    {
     "ename": "TypeError",
     "evalue": "list indices must be integers or slices, not str",
     "output_type": "error",
     "traceback": [
      "\u001b[1;31m---------------------------------------------------------------------------\u001b[0m",
      "\u001b[1;31mTypeError\u001b[0m                                 Traceback (most recent call last)",
      "Cell \u001b[1;32mIn[6], line 219\u001b[0m\n\u001b[0;32m    214\u001b[0m     \u001b[38;5;28mprint\u001b[39m(data[\u001b[38;5;124m'\u001b[39m\u001b[38;5;124mintersections\u001b[39m\u001b[38;5;124m'\u001b[39m][\u001b[38;5;124m'\u001b[39m\u001b[38;5;124midentifier\u001b[39m\u001b[38;5;124m'\u001b[39m])\n\u001b[0;32m    218\u001b[0m \u001b[38;5;28;01mif\u001b[39;00m \u001b[38;5;18m__name__\u001b[39m \u001b[38;5;241m==\u001b[39m \u001b[38;5;124m\"\u001b[39m\u001b[38;5;124m__main__\u001b[39m\u001b[38;5;124m\"\u001b[39m:\n\u001b[1;32m--> 219\u001b[0m     \u001b[43mmain\u001b[49m\u001b[43m(\u001b[49m\u001b[43m)\u001b[49m\n",
      "Cell \u001b[1;32mIn[6], line 214\u001b[0m, in \u001b[0;36mmain\u001b[1;34m()\u001b[0m\n\u001b[0;32m    212\u001b[0m \u001b[38;5;28;01mdef\u001b[39;00m \u001b[38;5;21mmain\u001b[39m():\n\u001b[0;32m    213\u001b[0m     data \u001b[38;5;241m=\u001b[39m loadData(\u001b[38;5;124m\"\u001b[39m\u001b[38;5;124mproblems/small/avenida_de_espanÌa_250_1.json\u001b[39m\u001b[38;5;124m\"\u001b[39m)\n\u001b[1;32m--> 214\u001b[0m     \u001b[38;5;28mprint\u001b[39m(\u001b[43mdata\u001b[49m\u001b[43m[\u001b[49m\u001b[38;5;124;43m'\u001b[39;49m\u001b[38;5;124;43mintersections\u001b[39;49m\u001b[38;5;124;43m'\u001b[39;49m\u001b[43m]\u001b[49m\u001b[43m[\u001b[49m\u001b[38;5;124;43m'\u001b[39;49m\u001b[38;5;124;43midentifier\u001b[39;49m\u001b[38;5;124;43m'\u001b[39;49m\u001b[43m]\u001b[49m)\n",
      "\u001b[1;31mTypeError\u001b[0m: list indices must be integers or slices, not str"
     ]
    }
   ],
   "source": [
    "import queue\n",
    "import json\n",
    "\n",
    "def loadData(fileName):\n",
    "    if not fileName.endswith(\".json\"):\n",
    "        print(\"El archivo no es válido\")\n",
    "        return\n",
    "    with open(fileName, 'r') as file:\n",
    "        data = json.load(file)\n",
    "    return data\n",
    "\n",
    "class Estado:\n",
    "\n",
    "    def __init__(self, id, long, lat):\n",
    "        self.identificador = id\n",
    "        self.longitud = long\n",
    "        self.latitud = lat\n",
    "\n",
    "class Accion:\n",
    "\n",
    "    def __init__(self, orig, dest, dist, vel):\n",
    "        self.origen = orig\n",
    "        self.destino = dest\n",
    "        self.coste = dist / toMetersPerSecond(vel)\n",
    "\n",
    "class Nodo:\n",
    "\n",
    "    def __init__(self, est, pad, acc):\n",
    "        self.estado = est\n",
    "        self.padre = pad\n",
    "        self.accion = acc\n",
    "        if self.padre is not None and self.accion is not None:\n",
    "            self.profundidad = self.padre.profundidad + 1\n",
    "            self.coste = self.padre.coste + self.accion.coste\n",
    "        else:\n",
    "            self.profundidad = 0\n",
    "            self.coste = 0\n",
    "\n",
    "class Problema:\n",
    "\n",
    "\n",
    "    def __init__(self, problemName):\n",
    "        self.problemName = problemName\n",
    "        data = loadData(self.problemName)\n",
    "        if not data:\n",
    "            return\n",
    "        \n",
    "        self.conexiones = {}\n",
    "        self.acciones = []\n",
    "        self.estados = {}\n",
    "        # Diccionario de conexiones, id origen con posibles destinos\n",
    "        self.conexiones = self.calcularConexiones(data)  \n",
    "        # Diccionario de estados, id del estado, estado en el otro lado\n",
    "        self.estados = self.calcularEstados(data)\n",
    "        # Lista de todas las acciones posibles\n",
    "        self.acciones = self.calcularAcciones(data)\n",
    "        # Encontramos el estado final y el estado inicial en el diccionario de estados\n",
    "        self.estadoFinal = self.estados[data['final']]\n",
    "        self.estadoInicial = self.estados[data['initial']]\n",
    "        \n",
    "    def calcularConexiones(self, data):\n",
    "        conexiones = {}\n",
    "        for element in data['segments']:\n",
    "            if element['origin'] not in conexiones:\n",
    "                conexiones[element['origin']] = []\n",
    "            conexiones[element['origin']].append(element['destination'])\n",
    "        return conexiones\n",
    "    \n",
    "    def calcularAcciones(self, data):\n",
    "        acciones = []\n",
    "        for element in data['segments']:\n",
    "            acciones.append(Accion(element['origin'], element['destination'], element['distance'], element['speed']))\n",
    "        return acciones\n",
    "\n",
    "    def calcularEstados(self, data):\n",
    "        estados = {}\n",
    "        for element in data['intersections']:\n",
    "            estados[element['identifier']] = Estado(element['identifier'], element['longitude'], element['latitude'])\n",
    "        return estados\n",
    "  \n",
    "class Busqueda:\n",
    "\n",
    "    def __init__(self, problema):\n",
    "        self.Problema = problema\n",
    "        self.generados = 0\n",
    "        self.expandidos = 0\n",
    "        self.explorados = 0\n",
    "        self.coste = 0\n",
    "    \n",
    "    def abrirNodo(self, nodo, frontera):\n",
    "        self.expandidos += 1\n",
    "        conexiones = self.Problema.conexiones[nodo.estado.identificador]\n",
    "        for element in conexiones:\n",
    "            accion = self.encontrarAccion(nodo.estado.identificador, element)\n",
    "            nodoFrontera = Nodo(self.Problema.estados[element], nodo, accion)\n",
    "            frontera.append(nodoFrontera)\n",
    "            self.generados += 1\n",
    "\n",
    "    def encontrarAccion(self, origen, destino):\n",
    "        for element in self.Problema.acciones:\n",
    "            if element.origen == origen and element.destino == destino:\n",
    "                return element\n",
    "\n",
    "    def esFinal(self, estado):\n",
    "        return estado == self.Problema.estadoFinal\n",
    "\n",
    "    def esVacia(self, frontera):\n",
    "        if frontera:\n",
    "            return False\n",
    "        else:\n",
    "            return True\n",
    "        \n",
    "class BFS:\n",
    "\n",
    "    def __init__(self, busqueda):\n",
    "        self.Busqueda = busqueda\n",
    "        self.frontera = []\n",
    "        self.cerrados = set()\n",
    "        self.nodoActual = Nodo(self.Busqueda.Problema.estadoInicial, None, None)\n",
    "        self.Busqueda.abrirNodo(self.nodoActual, self.frontera)\n",
    "        if self.Busqueda.esFinal(self.nodoActual.estado):\n",
    "            self.solucion = self.nodoActual\n",
    "            return\n",
    "        self.solucion = self.algoritmoSimple()\n",
    "        self.Busqueda.coste = self.solucion.coste\n",
    "\n",
    "    def algoritmoSimple(self):\n",
    "        while(True):\n",
    "            if self.Busqueda.esVacia(self.frontera):\n",
    "                return None\n",
    "            self.nodoActual = self.borrarPrimero()\n",
    "            if self.Busqueda.esFinal(self.nodoActual.estado):\n",
    "                return self.nodoActual\n",
    "            self.Busqueda.explorados += 1\n",
    "            self.Explorar()\n",
    "    \n",
    "    def Explorar(self):\n",
    "        if self.nodoActual.estado not in self.cerrados:\n",
    "            self.cerrados.add(self.nodoActual.estado)\n",
    "            self.Busqueda.abrirNodo(self.nodoActual, self.frontera)\n",
    "    \n",
    "    def borrarPrimero(self):\n",
    "        return self.frontera.pop(0)\n",
    "    \n",
    "    def reconstruirCamino(self, nodo):\n",
    "        ids = [nodo.estado.identificador]\n",
    "        while nodo.padre is not None:\n",
    "            nodo = nodo.padre\n",
    "            ids.append(nodo.estado.identificador)\n",
    "        print(f\"Camino recorrido: {ids}\")\n",
    "\n",
    "\n",
    "    def imprimirResultado(self):\n",
    "        print(f\"Nodos generados: {self.Busqueda.generados}\")\n",
    "        print(f\"Nodos expandidos: {self.Busqueda.expandidos}\")\n",
    "        print(f\"Nodos explorados: {self.Busqueda.explorados}\")\n",
    "        print(f\"Coste final: {self.Busqueda.coste}\")\n",
    "        self.reconstruirCamino(self.nodoActual)\n",
    "\n",
    "\n",
    "class DFS:\n",
    "    \n",
    "    def __init__(self, busqueda):\n",
    "        self.Busqueda = busqueda\n",
    "        self.frontera = []\n",
    "        self.cerrados = set()\n",
    "        self.nodoActual = Nodo(busqueda.Problema.estadoInicial, None, None)\n",
    "        self.Busqueda.abrirNodo(self.nodoActual, self.frontera)\n",
    "        if self.Busqueda.esFinal(self.nodoActual.estado):\n",
    "            self.solucion = self.nodoActual\n",
    "            return\n",
    "        self.solucion = self.algoritmoSimple()\n",
    "        self.Busqueda.coste = self.solucion.coste\n",
    "\n",
    "    def algoritmoSimple(self):\n",
    "        while(True):\n",
    "            if self.Busqueda.esVacia(self.frontera):\n",
    "                return None\n",
    "            self.nodoActual = self.borrarUltimo()\n",
    "            if self.Busqueda.esFinal(self.nodoActual.estado):\n",
    "                return self.nodoActual\n",
    "            self.Busqueda.explorados += 1\n",
    "            self.Explorar()\n",
    "\n",
    "    def borrarUltimo(self):\n",
    "        return self.frontera.pop(len(self.frontera) - 1)\n",
    "\n",
    "    def Explorar(self):\n",
    "        if self.nodoActual.estado not in self.cerrados:\n",
    "            self.cerrados.add(self.nodoActual.estado)\n",
    "            self.Busqueda.abrirNodo(self.nodoActual, self.frontera)\n",
    "    \n",
    "    def reconstruirCamino(self, nodo):\n",
    "        ids = [nodo.estado.identificador]\n",
    "        while nodo.padre is not None:\n",
    "            nodo = nodo.padre\n",
    "            ids.append(nodo.estado.identificador)\n",
    "        print(f\"Camino recorrido: {ids}\")\n",
    "\n",
    "\n",
    "    def imprimirResultado(self):\n",
    "        print(f\"Nodos generados: {self.Busqueda.generados}\")\n",
    "        print(f\"Nodos expandidos: {self.Busqueda.expandidos}\")\n",
    "        print(f\"Nodos explorados: {self.Busqueda.explorados}\")\n",
    "        print(f\"Coste final: {self.Busqueda.coste}\")\n",
    "        self.reconstruirCamino(self.nodoActual)\n",
    "\n",
    "\n",
    "def toMetersPerSecond(kilometersPerHour):\n",
    "    return (kilometersPerHour * 1000) / 3600\n",
    "\n",
    "def main():\n",
    "    data = loadData(\"problems/small/avenida_de_espanÌa_250_1.json\")\n",
    "    for i in data['intersections']:\n",
    "        print(i['identifier'])\n",
    "\n",
    "\n",
    "\n",
    "if __name__ == \"__main__\":\n",
    "    main()\n",
    "    "
   ]
  }
 ],
 "metadata": {
  "datalore": {
   "base_environment": "default",
   "computation_mode": "JUPYTER",
   "package_manager": "pip",
   "packages": [
    {
     "name": "pqueue",
     "source": "PIP",
     "version": "0.1.7"
    },
    {
     "name": "geopy",
     "source": "PIP",
     "version": "2.2.0"
    }
   ],
   "version": 1
  },
  "kernelspec": {
   "display_name": "Python 3 (ipykernel)",
   "language": "python",
   "name": "python3"
  },
  "language_info": {
   "codemirror_mode": {
    "name": "ipython",
    "version": 3
   },
   "file_extension": ".py",
   "mimetype": "text/x-python",
   "name": "python",
   "nbconvert_exporter": "python",
   "pygments_lexer": "ipython3",
   "version": "3.12.6"
  },
  "latex_envs": {
   "LaTeX_envs_menu_present": true,
   "autoclose": false,
   "autocomplete": true,
   "bibliofile": "biblio.bib",
   "cite_by": "apalike",
   "current_citInitial": 1,
   "eqLabelWithNumbers": true,
   "eqNumInitial": 1,
   "hotkeys": {
    "equation": "Ctrl-E",
    "itemize": "Ctrl-I"
   },
   "labels_anchors": false,
   "latex_user_defs": false,
   "report_style_numbering": false,
   "user_envs_cfg": false
  },
  "vscode": {
   "interpreter": {
    "hash": "b2fdad1bafe026d053b4602f2179e2296ea0334d2d9ae4e6300a3a67b6dd2231"
   }
  }
 },
 "nbformat": 4,
 "nbformat_minor": 4
}
